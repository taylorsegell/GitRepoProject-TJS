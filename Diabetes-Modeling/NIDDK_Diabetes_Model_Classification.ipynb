{
 "cells": [
  {
   "cell_type": "markdown",
   "id": "bfac0f7d",
   "metadata": {
    "id": "e98b3ebc-79f9-406d-b5fd-a109455cbaf1"
   },
   "source": [
    "# <div align=\"center\" style=\"color:white;display:fill;border-radius:5px;background-color:#98f5ff;font-family:DM Serif Display;overflow:hidden\"><h1 style= \"padding:20px;color:black;overflow:hidden;font-size:200%;letter-spacing:0.5px;margin:0\"><b>NIDDK Diabetes Model</b> </h1> <p style= \"padding:20px;color:black;overflow:hidden;font-size:50%;letter-spacing:0.5px;margin:0\"><u>Classification Modeling</u></p> </div>\n",
    "***\n",
    "\n",
    "# <div style=\"color:black;display:fill;border-radius:5px;background-color:#4a708b;font-family:DM Serif Display;overflow:hidden\"><p style=\"padding:20px;color:white;overflow:hidden;font-size:90%;letter-spacing:0.5px;margin:0\"><b>A ) </b> Overview </p></div>\n",
    "\n",
    "In the United States, the National Institute of Diabetes and Digestive and Kidney Diseases (NIDDK) conducts research to advance understanding of and treatments for the most chronic, costly, and devastating diseases.<br><br>\n",
    "The dataset that was used in this project came from the National Institute of Developmental Disabilities and Intellectual Disabilities. With the dataset, the goal is to predict whether or not a patient has diabetes based on certain diagnostic measurements that have been included in the dataset. Also this project's intent is to formulate a model that can accurately predict whether or not a patient in the dataset has diabetes.\n",
    "\n",
    "\n",
    "\n",
    "# <div style=\"color:white;display:fill;border-radius:5px;background-color:#4a708b;font-family:DM Serif Display;overflow:hidden\"><p style=\"padding:20px;color:white;overflow:hidden;font-size:90%;letter-spacing:0.5px;margin:0\"><b>B ) </b> The Data </p>\n",
    "<table>\n",
    "    <tr><th>Data</th><th>Description</th><th>Data Type</th></tr>\n",
    "    <tr><td>Pregnancies</td><td>Number of times pregnant</td><td>Int64</td></tr>\n",
    "    <tr><td>Glucose</td><td>Plasma glucose concentration in an oral glucose tolerance test</td><td>Int64</td></tr>\n",
    "    <tr><td>BloodPressure</td><td>Diastolic blood pressure (mm Hg)</td><td>Int64</td></tr>\n",
    "    <tr><td>SkinThickness</td><td>Triceps skinfold thickness (mm)</td><td>Int64</td></tr>\n",
    "    <tr><td>Insulin</td><td>Two hour serum insulin</td><td>Int64</td></tr>\n",
    "    <tr><td>BMI</td><td>Body Mass Index</td><td>Float64</td></tr>\n",
    "    <tr><td>DiabetesPedigreeFunction</td><td>Diabetes pedigree function</td><td>Float64</td></tr>\n",
    "    <tr><td>Age</td><td>Age in years</td><td>Int64</td></tr>\n",
    "    <tr><td>Outcome</td><td>Class variable (either 0 or 1). 268 of 768 values are 1, and the others are 0</td><td>Int64</td></tr>\n",
    "</table><br>\n",
    "The datasets are made up of a number of medical predictor variables as well as one target variable (Outcome). The number of pregnancies the patient has had, their BMI, insulin level, age, and other factors are all considered predictor variables.</div>\n",
    "\n",
    "*** "
   ]
  },
  {
   "cell_type": "code",
   "execution_count": 1,
   "id": "54e84a14",
   "metadata": {
    "id": "ab31fdd2-30ff-4a6a-b73d-e53daeb9bc53",
    "tags": []
   },
   "outputs": [
    {
     "data": {
      "text/html": [
       "        <script type=\"text/javascript\">\n",
       "        window.PlotlyConfig = {MathJaxConfig: 'local'};\n",
       "        if (window.MathJax) {MathJax.Hub.Config({SVG: {font: \"STIX-Web\"}});}\n",
       "        if (typeof require !== 'undefined') {\n",
       "        require.undef(\"plotly\");\n",
       "        requirejs.config({\n",
       "            paths: {\n",
       "                'plotly': ['https://cdn.plot.ly/plotly-2.2.0.min']\n",
       "            }\n",
       "        });\n",
       "        require(['plotly'], function(Plotly) {\n",
       "            window._Plotly = Plotly;\n",
       "        });\n",
       "        }\n",
       "        </script>\n",
       "        "
      ]
     },
     "metadata": {},
     "output_type": "display_data"
    },
    {
     "name": "stdout",
     "output_type": "stream",
     "text": [
      "Imported Successfully\n"
     ]
    }
   ],
   "source": [
    "#Classic Libraries\n",
    "import pandas as pd \n",
    "import numpy as np  \n",
    "import random\n",
    "import math\n",
    "import time\n",
    "import sys\n",
    "import scipy.stats as st\n",
    "import statsmodels.api as sm\n",
    "import statsmodels.formula.api as smf\n",
    "\n",
    "#Data Viz \n",
    "import matplotlib.pyplot as plt \n",
    "import matplotlib.colors as mcolors\n",
    "import seaborn as sns\n",
    "import plotly.express as px\n",
    "import plotly.graph_objs as go\n",
    "from plotly.subplots import make_subplots\n",
    "import plotly.figure_factory as ff\n",
    "\n",
    "# load make_blobs to simulate data\n",
    "from sklearn.datasets import make_blobs, make_classification\n",
    "\n",
    "# import the ML algorithm\n",
    "from sklearn.neighbors import KNeighborsClassifier\n",
    "from sklearn.linear_model import LogisticRegression\n",
    "from catboost import CatBoostClassifier\n",
    "from sklearn.naive_bayes import MultinomialNB\n",
    "from sklearn.tree import DecisionTreeClassifier\n",
    "from sklearn.ensemble import RandomForestClassifier, AdaBoostClassifier, GradientBoostingClassifier\n",
    "from sklearn.cluster import KMeans\n",
    "from xgboost import XGBClassifier\n",
    "from xgboost import plot_importance\n",
    "from sklearn.svm import SVC\n",
    "\n",
    "from sklearn.model_selection import GridSearchCV\n",
    "from IPython.display import display\n",
    "import plotly.io as pio\n",
    "\n",
    "\n",
    "\n",
    "# pre-processing\n",
    "\n",
    "from sklearn.feature_selection import SelectKBest,  RFE, RFECV\n",
    "from sklearn.preprocessing import StandardScaler, RobustScaler\n",
    "\n",
    "# import libraries for model validation\n",
    "from sklearn.model_selection import cross_val_score, train_test_split, KFold \n",
    "\n",
    "# import libraries for metrics and reporting\n",
    "from sklearn.metrics import confusion_matrix as cfmx\n",
    "from sklearn.metrics import classification_report, accuracy_score, precision_score, recall_score, f1_score\n",
    "from sklearn import metrics\n",
    "from sklearn.metrics import roc_curve, auc, adjusted_rand_score, plot_confusion_matrix\n",
    "from sklearn.model_selection import GridSearchCV\n",
    "from statsmodels.stats.outliers_influence import variance_inflation_factor\n",
    "from scipy.stats import pearsonr\n",
    "import statistics\n",
    "from dudes import *\n",
    "import plotly\n",
    "plotly.offline.init_notebook_mode(connected=True)\n",
    "pio.renderers.default = 'iframe' \n",
    "print('Imported Successfully')"
   ]
  },
  {
   "cell_type": "code",
   "execution_count": 2,
   "id": "cc332ad3",
   "metadata": {
    "id": "9755f8c4-7e25-4c82-ac6b-893f2b30810e",
    "tags": []
   },
   "outputs": [
    {
     "name": "stdout",
     "output_type": "stream",
     "text": [
      "<class 'pandas.core.frame.DataFrame'>\n",
      "RangeIndex: 768 entries, 0 to 767\n",
      "Data columns (total 9 columns):\n",
      " #   Column                    Non-Null Count  Dtype  \n",
      "---  ------                    --------------  -----  \n",
      " 0   Pregnancies               768 non-null    int64  \n",
      " 1   Glucose                   768 non-null    int64  \n",
      " 2   BloodPressure             768 non-null    int64  \n",
      " 3   SkinThickness             768 non-null    int64  \n",
      " 4   Insulin                   768 non-null    int64  \n",
      " 5   BMI                       768 non-null    float64\n",
      " 6   DiabetesPedigreeFunction  768 non-null    float64\n",
      " 7   Age                       768 non-null    int64  \n",
      " 8   Outcome                   768 non-null    int64  \n",
      "dtypes: float64(2), int64(7)\n",
      "memory usage: 54.1 KB\n"
     ]
    }
   ],
   "source": [
    "df = pd.read_csv('diabetes.csv')\n",
    "df.info()"
   ]
  },
  {
   "cell_type": "markdown",
   "id": "2c0fe709",
   "metadata": {
    "id": "33d2147c-dfc4-4af1-8fb6-74cbea8afa19"
   },
   "source": [
    "---\n",
    "# <div style=\"color:white;display:fill;border-radius:5px;background-color:#98f5ff;font-family:DM Serif Display;overflow:hidden\"><p style=\"padding:20px;color:black;overflow:hidden;font-size:120%;letter-spacing:0.5px;margin:0\"><b>Part I: </b> Cleaning/EDA  </p></div>\n",
    "\n",
    "# <div style=\"color:white;display:fill;border-radius:5px;background-color:#4a708b;font-family:DM Serif Display;overflow:hidden\"><p style=\"padding:20px;color:white;overflow:hidden;font-size:90%;letter-spacing:0.5px;margin:0\"><b>A ) </b> House Keeping and Data Overview </p></div>\n",
    "To begin we will undertake the typical house cleaning steps needed to standardize our data and ensure that it has integrity when we get to the modeling phase.\n",
    "\n",
    "First I would like to simplify our headers for a simpler process when referencing them through the project."
   ]
  },
  {
   "cell_type": "code",
   "execution_count": 3,
   "id": "0ca87fc6",
   "metadata": {
    "id": "d651d41d-c330-4890-9c66-9580fa51ca69",
    "tags": []
   },
   "outputs": [],
   "source": [
    "df.rename(columns={'BloodPressure':'bp', 'SkinThickness':'st', 'DiabetesPedigreeFunction':'dpf'}, inplace=True)\n",
    "df.rename(str.lower, axis=1, inplace=True)"
   ]
  },
  {
   "cell_type": "markdown",
   "id": "91f59bae",
   "metadata": {
    "id": "97577a64-e743-4f9b-b6f1-30f5ca2b8998"
   },
   "source": [
    "> This is just a simple little research function to understand the basics of the data and to be able to see what steps we should take to ensure that it is nice and tidy for our analysis"
   ]
  },
  {
   "cell_type": "code",
   "execution_count": 4,
   "id": "2be63d24",
   "metadata": {
    "id": "9e8f7442-bcf5-4612-923b-7d41c9e373c4",
    "tags": []
   },
   "outputs": [
    {
     "data": {
      "text/markdown": [
       "<span style='text-decoration:underline;text-align:center;font-size:28px;color:#42358a'>**Diabetes**</span>"
      ],
      "text/plain": [
       "<IPython.core.display.Markdown object>"
      ]
     },
     "metadata": {},
     "output_type": "display_data"
    },
    {
     "data": {
      "text/markdown": [
       "<span style='text-decoration:None;text-align:center;font-size:20px;color:#7d8a35'>______________________________________________________</span>"
      ],
      "text/plain": [
       "<IPython.core.display.Markdown object>"
      ]
     },
     "metadata": {},
     "output_type": "display_data"
    },
    {
     "data": {
      "text/markdown": [
       "<span style='text-decoration:None;text-align:center;font-size:22px;color:#42358a'>**Basic Info**</span>"
      ],
      "text/plain": [
       "<IPython.core.display.Markdown object>"
      ]
     },
     "metadata": {},
     "output_type": "display_data"
    },
    {
     "data": {
      "text/markdown": [
       "<span style='text-decoration:None;text-align:center;font-size:14px;color:#000000'>**Shape** = (768, 9)</span>"
      ],
      "text/plain": [
       "<IPython.core.display.Markdown object>"
      ]
     },
     "metadata": {},
     "output_type": "display_data"
    },
    {
     "data": {
      "text/markdown": [
       "<span style='text-decoration:None;text-align:center;font-size:14px;color:#000000'>**Columns** = pregnancies, glucose, bp, st, insulin, bmi, dpf, age, outcome</span>"
      ],
      "text/plain": [
       "<IPython.core.display.Markdown object>"
      ]
     },
     "metadata": {},
     "output_type": "display_data"
    },
    {
     "data": {
      "text/markdown": [
       "<span style='text-decoration:None;text-align:center;font-size:14px;color:#000000'>**Memory Usage** = 54.12, kilobytes</span>"
      ],
      "text/plain": [
       "<IPython.core.display.Markdown object>"
      ]
     },
     "metadata": {},
     "output_type": "display_data"
    },
    {
     "data": {
      "text/html": [
       "<style type=\"text/css\">\n",
       "#T_a8b3b_ td:hover {\n",
       "  background-color: #7d8a35;\n",
       "}\n",
       "#T_a8b3b_ .index_name {\n",
       "  font-style: italic;\n",
       "  color: lightgrey;\n",
       "  font-weight: normal;\n",
       "}\n",
       "#T_a8b3b_ th:not(.index_name) {\n",
       "  background-color: #7d8a35;\n",
       "  color: white;\n",
       "  font-size: 1.05em;\n",
       "}\n",
       "</style>\n",
       "<table id=\"T_a8b3b_\">\n",
       "  <thead>\n",
       "    <tr>\n",
       "      <th class=\"blank level0\" >&nbsp;</th>\n",
       "      <th class=\"col_heading level0 col0\" >Column</th>\n",
       "      <th class=\"col_heading level0 col1\" >Non-Null Count</th>\n",
       "      <th class=\"col_heading level0 col2\" >Dtype</th>\n",
       "    </tr>\n",
       "  </thead>\n",
       "  <tbody>\n",
       "    <tr>\n",
       "      <th id=\"T_a8b3b_level0_row0\" class=\"row_heading level0 row0\" >0</th>\n",
       "      <td id=\"T_a8b3b_row0_col0\" class=\"data row0 col0\" >pregnancies</td>\n",
       "      <td id=\"T_a8b3b_row0_col1\" class=\"data row0 col1\" >768</td>\n",
       "      <td id=\"T_a8b3b_row0_col2\" class=\"data row0 col2\" >int64</td>\n",
       "    </tr>\n",
       "    <tr>\n",
       "      <th id=\"T_a8b3b_level0_row1\" class=\"row_heading level0 row1\" >1</th>\n",
       "      <td id=\"T_a8b3b_row1_col0\" class=\"data row1 col0\" >glucose</td>\n",
       "      <td id=\"T_a8b3b_row1_col1\" class=\"data row1 col1\" >768</td>\n",
       "      <td id=\"T_a8b3b_row1_col2\" class=\"data row1 col2\" >int64</td>\n",
       "    </tr>\n",
       "    <tr>\n",
       "      <th id=\"T_a8b3b_level0_row2\" class=\"row_heading level0 row2\" >2</th>\n",
       "      <td id=\"T_a8b3b_row2_col0\" class=\"data row2 col0\" >bp</td>\n",
       "      <td id=\"T_a8b3b_row2_col1\" class=\"data row2 col1\" >768</td>\n",
       "      <td id=\"T_a8b3b_row2_col2\" class=\"data row2 col2\" >int64</td>\n",
       "    </tr>\n",
       "    <tr>\n",
       "      <th id=\"T_a8b3b_level0_row3\" class=\"row_heading level0 row3\" >3</th>\n",
       "      <td id=\"T_a8b3b_row3_col0\" class=\"data row3 col0\" >st</td>\n",
       "      <td id=\"T_a8b3b_row3_col1\" class=\"data row3 col1\" >768</td>\n",
       "      <td id=\"T_a8b3b_row3_col2\" class=\"data row3 col2\" >int64</td>\n",
       "    </tr>\n",
       "    <tr>\n",
       "      <th id=\"T_a8b3b_level0_row4\" class=\"row_heading level0 row4\" >4</th>\n",
       "      <td id=\"T_a8b3b_row4_col0\" class=\"data row4 col0\" >insulin</td>\n",
       "      <td id=\"T_a8b3b_row4_col1\" class=\"data row4 col1\" >768</td>\n",
       "      <td id=\"T_a8b3b_row4_col2\" class=\"data row4 col2\" >int64</td>\n",
       "    </tr>\n",
       "    <tr>\n",
       "      <th id=\"T_a8b3b_level0_row5\" class=\"row_heading level0 row5\" >5</th>\n",
       "      <td id=\"T_a8b3b_row5_col0\" class=\"data row5 col0\" >bmi</td>\n",
       "      <td id=\"T_a8b3b_row5_col1\" class=\"data row5 col1\" >768</td>\n",
       "      <td id=\"T_a8b3b_row5_col2\" class=\"data row5 col2\" >float64</td>\n",
       "    </tr>\n",
       "    <tr>\n",
       "      <th id=\"T_a8b3b_level0_row6\" class=\"row_heading level0 row6\" >6</th>\n",
       "      <td id=\"T_a8b3b_row6_col0\" class=\"data row6 col0\" >dpf</td>\n",
       "      <td id=\"T_a8b3b_row6_col1\" class=\"data row6 col1\" >768</td>\n",
       "      <td id=\"T_a8b3b_row6_col2\" class=\"data row6 col2\" >float64</td>\n",
       "    </tr>\n",
       "    <tr>\n",
       "      <th id=\"T_a8b3b_level0_row7\" class=\"row_heading level0 row7\" >7</th>\n",
       "      <td id=\"T_a8b3b_row7_col0\" class=\"data row7 col0\" >age</td>\n",
       "      <td id=\"T_a8b3b_row7_col1\" class=\"data row7 col1\" >768</td>\n",
       "      <td id=\"T_a8b3b_row7_col2\" class=\"data row7 col2\" >int64</td>\n",
       "    </tr>\n",
       "    <tr>\n",
       "      <th id=\"T_a8b3b_level0_row8\" class=\"row_heading level0 row8\" >8</th>\n",
       "      <td id=\"T_a8b3b_row8_col0\" class=\"data row8 col0\" >outcome</td>\n",
       "      <td id=\"T_a8b3b_row8_col1\" class=\"data row8 col1\" >768</td>\n",
       "      <td id=\"T_a8b3b_row8_col2\" class=\"data row8 col2\" >int64</td>\n",
       "    </tr>\n",
       "  </tbody>\n",
       "</table>\n"
      ],
      "text/plain": [
       "<pandas.io.formats.style.Styler at 0x7f055c36fdf0>"
      ]
     },
     "metadata": {},
     "output_type": "display_data"
    },
    {
     "data": {
      "text/markdown": [
       "<span style='text-decoration:None;text-align:center;font-size:20px;color:#7d8a35'>______________________________________________________</span>"
      ],
      "text/plain": [
       "<IPython.core.display.Markdown object>"
      ]
     },
     "metadata": {},
     "output_type": "display_data"
    },
    {
     "data": {
      "text/markdown": [
       "<span style='text-decoration:None;text-align:center;font-size:22px;color:#42358a'>**Head**</span>"
      ],
      "text/plain": [
       "<IPython.core.display.Markdown object>"
      ]
     },
     "metadata": {},
     "output_type": "display_data"
    },
    {
     "data": {
      "text/html": [
       "<style type=\"text/css\">\n",
       "#T_0b107_ td:hover {\n",
       "  background-color: #7d8a35;\n",
       "}\n",
       "#T_0b107_ .index_name {\n",
       "  font-style: italic;\n",
       "  color: lightgrey;\n",
       "  font-weight: normal;\n",
       "}\n",
       "#T_0b107_ th:not(.index_name) {\n",
       "  background-color: #7d8a35;\n",
       "  color: white;\n",
       "  font-size: 1.05em;\n",
       "}\n",
       "</style>\n",
       "<table id=\"T_0b107_\">\n",
       "  <thead>\n",
       "    <tr>\n",
       "      <th class=\"blank level0\" >&nbsp;</th>\n",
       "      <th class=\"col_heading level0 col0\" >pregnancies</th>\n",
       "      <th class=\"col_heading level0 col1\" >glucose</th>\n",
       "      <th class=\"col_heading level0 col2\" >bp</th>\n",
       "      <th class=\"col_heading level0 col3\" >st</th>\n",
       "      <th class=\"col_heading level0 col4\" >insulin</th>\n",
       "      <th class=\"col_heading level0 col5\" >bmi</th>\n",
       "      <th class=\"col_heading level0 col6\" >dpf</th>\n",
       "      <th class=\"col_heading level0 col7\" >age</th>\n",
       "      <th class=\"col_heading level0 col8\" >outcome</th>\n",
       "    </tr>\n",
       "  </thead>\n",
       "  <tbody>\n",
       "    <tr>\n",
       "      <th id=\"T_0b107_level0_row0\" class=\"row_heading level0 row0\" >0</th>\n",
       "      <td id=\"T_0b107_row0_col0\" class=\"data row0 col0\" >6</td>\n",
       "      <td id=\"T_0b107_row0_col1\" class=\"data row0 col1\" >148</td>\n",
       "      <td id=\"T_0b107_row0_col2\" class=\"data row0 col2\" >72</td>\n",
       "      <td id=\"T_0b107_row0_col3\" class=\"data row0 col3\" >35</td>\n",
       "      <td id=\"T_0b107_row0_col4\" class=\"data row0 col4\" >0</td>\n",
       "      <td id=\"T_0b107_row0_col5\" class=\"data row0 col5\" >33.600000</td>\n",
       "      <td id=\"T_0b107_row0_col6\" class=\"data row0 col6\" >0.627000</td>\n",
       "      <td id=\"T_0b107_row0_col7\" class=\"data row0 col7\" >50</td>\n",
       "      <td id=\"T_0b107_row0_col8\" class=\"data row0 col8\" >1</td>\n",
       "    </tr>\n",
       "    <tr>\n",
       "      <th id=\"T_0b107_level0_row1\" class=\"row_heading level0 row1\" >1</th>\n",
       "      <td id=\"T_0b107_row1_col0\" class=\"data row1 col0\" >1</td>\n",
       "      <td id=\"T_0b107_row1_col1\" class=\"data row1 col1\" >85</td>\n",
       "      <td id=\"T_0b107_row1_col2\" class=\"data row1 col2\" >66</td>\n",
       "      <td id=\"T_0b107_row1_col3\" class=\"data row1 col3\" >29</td>\n",
       "      <td id=\"T_0b107_row1_col4\" class=\"data row1 col4\" >0</td>\n",
       "      <td id=\"T_0b107_row1_col5\" class=\"data row1 col5\" >26.600000</td>\n",
       "      <td id=\"T_0b107_row1_col6\" class=\"data row1 col6\" >0.351000</td>\n",
       "      <td id=\"T_0b107_row1_col7\" class=\"data row1 col7\" >31</td>\n",
       "      <td id=\"T_0b107_row1_col8\" class=\"data row1 col8\" >0</td>\n",
       "    </tr>\n",
       "    <tr>\n",
       "      <th id=\"T_0b107_level0_row2\" class=\"row_heading level0 row2\" >2</th>\n",
       "      <td id=\"T_0b107_row2_col0\" class=\"data row2 col0\" >8</td>\n",
       "      <td id=\"T_0b107_row2_col1\" class=\"data row2 col1\" >183</td>\n",
       "      <td id=\"T_0b107_row2_col2\" class=\"data row2 col2\" >64</td>\n",
       "      <td id=\"T_0b107_row2_col3\" class=\"data row2 col3\" >0</td>\n",
       "      <td id=\"T_0b107_row2_col4\" class=\"data row2 col4\" >0</td>\n",
       "      <td id=\"T_0b107_row2_col5\" class=\"data row2 col5\" >23.300000</td>\n",
       "      <td id=\"T_0b107_row2_col6\" class=\"data row2 col6\" >0.672000</td>\n",
       "      <td id=\"T_0b107_row2_col7\" class=\"data row2 col7\" >32</td>\n",
       "      <td id=\"T_0b107_row2_col8\" class=\"data row2 col8\" >1</td>\n",
       "    </tr>\n",
       "    <tr>\n",
       "      <th id=\"T_0b107_level0_row3\" class=\"row_heading level0 row3\" >3</th>\n",
       "      <td id=\"T_0b107_row3_col0\" class=\"data row3 col0\" >1</td>\n",
       "      <td id=\"T_0b107_row3_col1\" class=\"data row3 col1\" >89</td>\n",
       "      <td id=\"T_0b107_row3_col2\" class=\"data row3 col2\" >66</td>\n",
       "      <td id=\"T_0b107_row3_col3\" class=\"data row3 col3\" >23</td>\n",
       "      <td id=\"T_0b107_row3_col4\" class=\"data row3 col4\" >94</td>\n",
       "      <td id=\"T_0b107_row3_col5\" class=\"data row3 col5\" >28.100000</td>\n",
       "      <td id=\"T_0b107_row3_col6\" class=\"data row3 col6\" >0.167000</td>\n",
       "      <td id=\"T_0b107_row3_col7\" class=\"data row3 col7\" >21</td>\n",
       "      <td id=\"T_0b107_row3_col8\" class=\"data row3 col8\" >0</td>\n",
       "    </tr>\n",
       "    <tr>\n",
       "      <th id=\"T_0b107_level0_row4\" class=\"row_heading level0 row4\" >4</th>\n",
       "      <td id=\"T_0b107_row4_col0\" class=\"data row4 col0\" >0</td>\n",
       "      <td id=\"T_0b107_row4_col1\" class=\"data row4 col1\" >137</td>\n",
       "      <td id=\"T_0b107_row4_col2\" class=\"data row4 col2\" >40</td>\n",
       "      <td id=\"T_0b107_row4_col3\" class=\"data row4 col3\" >35</td>\n",
       "      <td id=\"T_0b107_row4_col4\" class=\"data row4 col4\" >168</td>\n",
       "      <td id=\"T_0b107_row4_col5\" class=\"data row4 col5\" >43.100000</td>\n",
       "      <td id=\"T_0b107_row4_col6\" class=\"data row4 col6\" >2.288000</td>\n",
       "      <td id=\"T_0b107_row4_col7\" class=\"data row4 col7\" >33</td>\n",
       "      <td id=\"T_0b107_row4_col8\" class=\"data row4 col8\" >1</td>\n",
       "    </tr>\n",
       "  </tbody>\n",
       "</table>\n"
      ],
      "text/plain": [
       "<pandas.io.formats.style.Styler at 0x7f055c36fdf0>"
      ]
     },
     "metadata": {},
     "output_type": "display_data"
    },
    {
     "data": {
      "text/markdown": [
       "<span style='text-decoration:None;text-align:center;font-size:20px;color:#7d8a35'>______________________________________________________</span>"
      ],
      "text/plain": [
       "<IPython.core.display.Markdown object>"
      ]
     },
     "metadata": {},
     "output_type": "display_data"
    },
    {
     "name": "stdout",
     "output_type": "stream",
     "text": [
      "\n"
     ]
    },
    {
     "data": {
      "text/markdown": [
       "<span style='text-decoration:None;text-align:center;font-size:22px;color:#42358a'>**Describe**</span>"
      ],
      "text/plain": [
       "<IPython.core.display.Markdown object>"
      ]
     },
     "metadata": {},
     "output_type": "display_data"
    },
    {
     "data": {
      "text/html": [
       "<style type=\"text/css\">\n",
       "#T_0d53d_ td:hover {\n",
       "  background-color: #7d8a35;\n",
       "}\n",
       "#T_0d53d_ .index_name {\n",
       "  font-style: italic;\n",
       "  color: lightgrey;\n",
       "  font-weight: normal;\n",
       "}\n",
       "#T_0d53d_ th:not(.index_name) {\n",
       "  background-color: #7d8a35;\n",
       "  color: white;\n",
       "  font-size: 1.05em;\n",
       "}\n",
       "</style>\n",
       "<table id=\"T_0d53d_\">\n",
       "  <thead>\n",
       "    <tr>\n",
       "      <th class=\"blank level0\" >&nbsp;</th>\n",
       "      <th class=\"col_heading level0 col0\" >pregnancies</th>\n",
       "      <th class=\"col_heading level0 col1\" >glucose</th>\n",
       "      <th class=\"col_heading level0 col2\" >bp</th>\n",
       "      <th class=\"col_heading level0 col3\" >st</th>\n",
       "      <th class=\"col_heading level0 col4\" >insulin</th>\n",
       "      <th class=\"col_heading level0 col5\" >bmi</th>\n",
       "      <th class=\"col_heading level0 col6\" >dpf</th>\n",
       "      <th class=\"col_heading level0 col7\" >age</th>\n",
       "      <th class=\"col_heading level0 col8\" >outcome</th>\n",
       "    </tr>\n",
       "  </thead>\n",
       "  <tbody>\n",
       "    <tr>\n",
       "      <th id=\"T_0d53d_level0_row0\" class=\"row_heading level0 row0\" >count</th>\n",
       "      <td id=\"T_0d53d_row0_col0\" class=\"data row0 col0\" >768.000000</td>\n",
       "      <td id=\"T_0d53d_row0_col1\" class=\"data row0 col1\" >768.000000</td>\n",
       "      <td id=\"T_0d53d_row0_col2\" class=\"data row0 col2\" >768.000000</td>\n",
       "      <td id=\"T_0d53d_row0_col3\" class=\"data row0 col3\" >768.000000</td>\n",
       "      <td id=\"T_0d53d_row0_col4\" class=\"data row0 col4\" >768.000000</td>\n",
       "      <td id=\"T_0d53d_row0_col5\" class=\"data row0 col5\" >768.000000</td>\n",
       "      <td id=\"T_0d53d_row0_col6\" class=\"data row0 col6\" >768.000000</td>\n",
       "      <td id=\"T_0d53d_row0_col7\" class=\"data row0 col7\" >768.000000</td>\n",
       "      <td id=\"T_0d53d_row0_col8\" class=\"data row0 col8\" >768.000000</td>\n",
       "    </tr>\n",
       "    <tr>\n",
       "      <th id=\"T_0d53d_level0_row1\" class=\"row_heading level0 row1\" >mean</th>\n",
       "      <td id=\"T_0d53d_row1_col0\" class=\"data row1 col0\" >3.845052</td>\n",
       "      <td id=\"T_0d53d_row1_col1\" class=\"data row1 col1\" >120.894531</td>\n",
       "      <td id=\"T_0d53d_row1_col2\" class=\"data row1 col2\" >69.105469</td>\n",
       "      <td id=\"T_0d53d_row1_col3\" class=\"data row1 col3\" >20.536458</td>\n",
       "      <td id=\"T_0d53d_row1_col4\" class=\"data row1 col4\" >79.799479</td>\n",
       "      <td id=\"T_0d53d_row1_col5\" class=\"data row1 col5\" >31.992578</td>\n",
       "      <td id=\"T_0d53d_row1_col6\" class=\"data row1 col6\" >0.471876</td>\n",
       "      <td id=\"T_0d53d_row1_col7\" class=\"data row1 col7\" >33.240885</td>\n",
       "      <td id=\"T_0d53d_row1_col8\" class=\"data row1 col8\" >0.348958</td>\n",
       "    </tr>\n",
       "    <tr>\n",
       "      <th id=\"T_0d53d_level0_row2\" class=\"row_heading level0 row2\" >std</th>\n",
       "      <td id=\"T_0d53d_row2_col0\" class=\"data row2 col0\" >3.369578</td>\n",
       "      <td id=\"T_0d53d_row2_col1\" class=\"data row2 col1\" >31.972618</td>\n",
       "      <td id=\"T_0d53d_row2_col2\" class=\"data row2 col2\" >19.355807</td>\n",
       "      <td id=\"T_0d53d_row2_col3\" class=\"data row2 col3\" >15.952218</td>\n",
       "      <td id=\"T_0d53d_row2_col4\" class=\"data row2 col4\" >115.244002</td>\n",
       "      <td id=\"T_0d53d_row2_col5\" class=\"data row2 col5\" >7.884160</td>\n",
       "      <td id=\"T_0d53d_row2_col6\" class=\"data row2 col6\" >0.331329</td>\n",
       "      <td id=\"T_0d53d_row2_col7\" class=\"data row2 col7\" >11.760232</td>\n",
       "      <td id=\"T_0d53d_row2_col8\" class=\"data row2 col8\" >0.476951</td>\n",
       "    </tr>\n",
       "    <tr>\n",
       "      <th id=\"T_0d53d_level0_row3\" class=\"row_heading level0 row3\" >min</th>\n",
       "      <td id=\"T_0d53d_row3_col0\" class=\"data row3 col0\" >0.000000</td>\n",
       "      <td id=\"T_0d53d_row3_col1\" class=\"data row3 col1\" >0.000000</td>\n",
       "      <td id=\"T_0d53d_row3_col2\" class=\"data row3 col2\" >0.000000</td>\n",
       "      <td id=\"T_0d53d_row3_col3\" class=\"data row3 col3\" >0.000000</td>\n",
       "      <td id=\"T_0d53d_row3_col4\" class=\"data row3 col4\" >0.000000</td>\n",
       "      <td id=\"T_0d53d_row3_col5\" class=\"data row3 col5\" >0.000000</td>\n",
       "      <td id=\"T_0d53d_row3_col6\" class=\"data row3 col6\" >0.078000</td>\n",
       "      <td id=\"T_0d53d_row3_col7\" class=\"data row3 col7\" >21.000000</td>\n",
       "      <td id=\"T_0d53d_row3_col8\" class=\"data row3 col8\" >0.000000</td>\n",
       "    </tr>\n",
       "    <tr>\n",
       "      <th id=\"T_0d53d_level0_row4\" class=\"row_heading level0 row4\" >25%</th>\n",
       "      <td id=\"T_0d53d_row4_col0\" class=\"data row4 col0\" >1.000000</td>\n",
       "      <td id=\"T_0d53d_row4_col1\" class=\"data row4 col1\" >99.000000</td>\n",
       "      <td id=\"T_0d53d_row4_col2\" class=\"data row4 col2\" >62.000000</td>\n",
       "      <td id=\"T_0d53d_row4_col3\" class=\"data row4 col3\" >0.000000</td>\n",
       "      <td id=\"T_0d53d_row4_col4\" class=\"data row4 col4\" >0.000000</td>\n",
       "      <td id=\"T_0d53d_row4_col5\" class=\"data row4 col5\" >27.300000</td>\n",
       "      <td id=\"T_0d53d_row4_col6\" class=\"data row4 col6\" >0.243750</td>\n",
       "      <td id=\"T_0d53d_row4_col7\" class=\"data row4 col7\" >24.000000</td>\n",
       "      <td id=\"T_0d53d_row4_col8\" class=\"data row4 col8\" >0.000000</td>\n",
       "    </tr>\n",
       "    <tr>\n",
       "      <th id=\"T_0d53d_level0_row5\" class=\"row_heading level0 row5\" >50%</th>\n",
       "      <td id=\"T_0d53d_row5_col0\" class=\"data row5 col0\" >3.000000</td>\n",
       "      <td id=\"T_0d53d_row5_col1\" class=\"data row5 col1\" >117.000000</td>\n",
       "      <td id=\"T_0d53d_row5_col2\" class=\"data row5 col2\" >72.000000</td>\n",
       "      <td id=\"T_0d53d_row5_col3\" class=\"data row5 col3\" >23.000000</td>\n",
       "      <td id=\"T_0d53d_row5_col4\" class=\"data row5 col4\" >30.500000</td>\n",
       "      <td id=\"T_0d53d_row5_col5\" class=\"data row5 col5\" >32.000000</td>\n",
       "      <td id=\"T_0d53d_row5_col6\" class=\"data row5 col6\" >0.372500</td>\n",
       "      <td id=\"T_0d53d_row5_col7\" class=\"data row5 col7\" >29.000000</td>\n",
       "      <td id=\"T_0d53d_row5_col8\" class=\"data row5 col8\" >0.000000</td>\n",
       "    </tr>\n",
       "    <tr>\n",
       "      <th id=\"T_0d53d_level0_row6\" class=\"row_heading level0 row6\" >75%</th>\n",
       "      <td id=\"T_0d53d_row6_col0\" class=\"data row6 col0\" >6.000000</td>\n",
       "      <td id=\"T_0d53d_row6_col1\" class=\"data row6 col1\" >140.250000</td>\n",
       "      <td id=\"T_0d53d_row6_col2\" class=\"data row6 col2\" >80.000000</td>\n",
       "      <td id=\"T_0d53d_row6_col3\" class=\"data row6 col3\" >32.000000</td>\n",
       "      <td id=\"T_0d53d_row6_col4\" class=\"data row6 col4\" >127.250000</td>\n",
       "      <td id=\"T_0d53d_row6_col5\" class=\"data row6 col5\" >36.600000</td>\n",
       "      <td id=\"T_0d53d_row6_col6\" class=\"data row6 col6\" >0.626250</td>\n",
       "      <td id=\"T_0d53d_row6_col7\" class=\"data row6 col7\" >41.000000</td>\n",
       "      <td id=\"T_0d53d_row6_col8\" class=\"data row6 col8\" >1.000000</td>\n",
       "    </tr>\n",
       "    <tr>\n",
       "      <th id=\"T_0d53d_level0_row7\" class=\"row_heading level0 row7\" >max</th>\n",
       "      <td id=\"T_0d53d_row7_col0\" class=\"data row7 col0\" >17.000000</td>\n",
       "      <td id=\"T_0d53d_row7_col1\" class=\"data row7 col1\" >199.000000</td>\n",
       "      <td id=\"T_0d53d_row7_col2\" class=\"data row7 col2\" >122.000000</td>\n",
       "      <td id=\"T_0d53d_row7_col3\" class=\"data row7 col3\" >99.000000</td>\n",
       "      <td id=\"T_0d53d_row7_col4\" class=\"data row7 col4\" >846.000000</td>\n",
       "      <td id=\"T_0d53d_row7_col5\" class=\"data row7 col5\" >67.100000</td>\n",
       "      <td id=\"T_0d53d_row7_col6\" class=\"data row7 col6\" >2.420000</td>\n",
       "      <td id=\"T_0d53d_row7_col7\" class=\"data row7 col7\" >81.000000</td>\n",
       "      <td id=\"T_0d53d_row7_col8\" class=\"data row7 col8\" >1.000000</td>\n",
       "    </tr>\n",
       "  </tbody>\n",
       "</table>\n"
      ],
      "text/plain": [
       "<pandas.io.formats.style.Styler at 0x7f055c36f550>"
      ]
     },
     "metadata": {},
     "output_type": "display_data"
    },
    {
     "data": {
      "text/markdown": [
       "<span style='text-decoration:None;text-align:center;font-size:20px;color:#7d8a35'>______________________________________________________</span>"
      ],
      "text/plain": [
       "<IPython.core.display.Markdown object>"
      ]
     },
     "metadata": {},
     "output_type": "display_data"
    },
    {
     "name": "stdout",
     "output_type": "stream",
     "text": [
      "\n"
     ]
    },
    {
     "data": {
      "text/markdown": [
       "<span style='text-decoration:None;text-align:center;font-size:22px;color:#42358a'>**Duplicates**</span>"
      ],
      "text/plain": [
       "<IPython.core.display.Markdown object>"
      ]
     },
     "metadata": {},
     "output_type": "display_data"
    },
    {
     "data": {
      "text/markdown": [
       "<span style='text-decoration:None;text-align:center;font-size:14px;color:#000000'>**There are 0 duplicates.**</span>"
      ],
      "text/plain": [
       "<IPython.core.display.Markdown object>"
      ]
     },
     "metadata": {},
     "output_type": "display_data"
    },
    {
     "data": {
      "text/markdown": [
       "<span style='text-decoration:None;text-align:center;font-size:20px;color:#7d8a35'>______________________________________________________</span>"
      ],
      "text/plain": [
       "<IPython.core.display.Markdown object>"
      ]
     },
     "metadata": {},
     "output_type": "display_data"
    },
    {
     "data": {
      "text/markdown": [
       "<span style='text-decoration:None;text-align:center;font-size:22px;color:#42358a'>**Missing**</span>"
      ],
      "text/plain": [
       "<IPython.core.display.Markdown object>"
      ]
     },
     "metadata": {},
     "output_type": "display_data"
    },
    {
     "data": {
      "text/html": [
       "<style type=\"text/css\">\n",
       "#T_4d99d_ td:hover {\n",
       "  background-color: #7d8a35;\n",
       "}\n",
       "#T_4d99d_ .index_name {\n",
       "  font-style: italic;\n",
       "  color: lightgrey;\n",
       "  font-weight: normal;\n",
       "}\n",
       "#T_4d99d_ th:not(.index_name) {\n",
       "  background-color: #7d8a35;\n",
       "  color: white;\n",
       "  font-size: 1.05em;\n",
       "}\n",
       "</style>\n",
       "<table id=\"T_4d99d_\">\n",
       "  <thead>\n",
       "    <tr>\n",
       "      <th class=\"blank level0\" >&nbsp;</th>\n",
       "      <th class=\"col_heading level0 col0\" >Percent_Missing</th>\n",
       "    </tr>\n",
       "  </thead>\n",
       "  <tbody>\n",
       "  </tbody>\n",
       "</table>\n"
      ],
      "text/plain": [
       "<pandas.io.formats.style.Styler at 0x7f0517b9b4c0>"
      ]
     },
     "metadata": {},
     "output_type": "display_data"
    },
    {
     "data": {
      "text/markdown": [
       "<span style='text-decoration:None;text-align:center;font-size:20px;color:#7d8a35'>______________________________________________________</span>"
      ],
      "text/plain": [
       "<IPython.core.display.Markdown object>"
      ]
     },
     "metadata": {},
     "output_type": "display_data"
    },
    {
     "data": {
      "text/markdown": [
       "<span style='text-decoration:None;text-align:center;font-size:22px;color:#42358a'>**Unique**</span>"
      ],
      "text/plain": [
       "<IPython.core.display.Markdown object>"
      ]
     },
     "metadata": {},
     "output_type": "display_data"
    },
    {
     "data": {
      "text/markdown": [
       "<span style='text-decoration:None;text-align:center;font-size:14px;color:#000000'>**Observation:** The Datset has 8 numerical & 1 categorical features.</span>"
      ],
      "text/plain": [
       "<IPython.core.display.Markdown object>"
      ]
     },
     "metadata": {},
     "output_type": "display_data"
    },
    {
     "data": {
      "text/markdown": [
       "<span style='text-decoration:None;text-align:center;font-size:20px;color:#7d8a35'>______________________________________________________</span>"
      ],
      "text/plain": [
       "<IPython.core.display.Markdown object>"
      ]
     },
     "metadata": {},
     "output_type": "display_data"
    },
    {
     "data": {
      "text/markdown": [
       "<span style='text-decoration:None;text-align:center;font-size:22px;color:#42358a'>**Quantiles**</span>"
      ],
      "text/plain": [
       "<IPython.core.display.Markdown object>"
      ]
     },
     "metadata": {},
     "output_type": "display_data"
    },
    {
     "data": {
      "text/html": [
       "<style type=\"text/css\">\n",
       "#T_9034e_ td:hover {\n",
       "  background-color: #7d8a35;\n",
       "}\n",
       "#T_9034e_ .index_name {\n",
       "  font-style: italic;\n",
       "  color: lightgrey;\n",
       "  font-weight: normal;\n",
       "}\n",
       "#T_9034e_ th:not(.index_name) {\n",
       "  background-color: #7d8a35;\n",
       "  color: white;\n",
       "  font-size: 1.05em;\n",
       "}\n",
       "</style>\n",
       "<table id=\"T_9034e_\">\n",
       "  <thead>\n",
       "    <tr>\n",
       "      <th class=\"blank level0\" >&nbsp;</th>\n",
       "      <th class=\"col_heading level0 col0\" >0.0</th>\n",
       "      <th class=\"col_heading level0 col1\" >0.05</th>\n",
       "      <th class=\"col_heading level0 col2\" >0.5</th>\n",
       "      <th class=\"col_heading level0 col3\" >0.95</th>\n",
       "      <th class=\"col_heading level0 col4\" >0.99</th>\n",
       "      <th class=\"col_heading level0 col5\" >1.0</th>\n",
       "    </tr>\n",
       "  </thead>\n",
       "  <tbody>\n",
       "    <tr>\n",
       "      <th id=\"T_9034e_level0_row0\" class=\"row_heading level0 row0\" >pregnancies</th>\n",
       "      <td id=\"T_9034e_row0_col0\" class=\"data row0 col0\" >0.000000</td>\n",
       "      <td id=\"T_9034e_row0_col1\" class=\"data row0 col1\" >0.000000</td>\n",
       "      <td id=\"T_9034e_row0_col2\" class=\"data row0 col2\" >3.000000</td>\n",
       "      <td id=\"T_9034e_row0_col3\" class=\"data row0 col3\" >10.000000</td>\n",
       "      <td id=\"T_9034e_row0_col4\" class=\"data row0 col4\" >13.000000</td>\n",
       "      <td id=\"T_9034e_row0_col5\" class=\"data row0 col5\" >17.000000</td>\n",
       "    </tr>\n",
       "    <tr>\n",
       "      <th id=\"T_9034e_level0_row1\" class=\"row_heading level0 row1\" >glucose</th>\n",
       "      <td id=\"T_9034e_row1_col0\" class=\"data row1 col0\" >0.000000</td>\n",
       "      <td id=\"T_9034e_row1_col1\" class=\"data row1 col1\" >79.000000</td>\n",
       "      <td id=\"T_9034e_row1_col2\" class=\"data row1 col2\" >117.000000</td>\n",
       "      <td id=\"T_9034e_row1_col3\" class=\"data row1 col3\" >181.000000</td>\n",
       "      <td id=\"T_9034e_row1_col4\" class=\"data row1 col4\" >196.000000</td>\n",
       "      <td id=\"T_9034e_row1_col5\" class=\"data row1 col5\" >199.000000</td>\n",
       "    </tr>\n",
       "    <tr>\n",
       "      <th id=\"T_9034e_level0_row2\" class=\"row_heading level0 row2\" >bp</th>\n",
       "      <td id=\"T_9034e_row2_col0\" class=\"data row2 col0\" >0.000000</td>\n",
       "      <td id=\"T_9034e_row2_col1\" class=\"data row2 col1\" >38.700000</td>\n",
       "      <td id=\"T_9034e_row2_col2\" class=\"data row2 col2\" >72.000000</td>\n",
       "      <td id=\"T_9034e_row2_col3\" class=\"data row2 col3\" >90.000000</td>\n",
       "      <td id=\"T_9034e_row2_col4\" class=\"data row2 col4\" >106.000000</td>\n",
       "      <td id=\"T_9034e_row2_col5\" class=\"data row2 col5\" >122.000000</td>\n",
       "    </tr>\n",
       "    <tr>\n",
       "      <th id=\"T_9034e_level0_row3\" class=\"row_heading level0 row3\" >st</th>\n",
       "      <td id=\"T_9034e_row3_col0\" class=\"data row3 col0\" >0.000000</td>\n",
       "      <td id=\"T_9034e_row3_col1\" class=\"data row3 col1\" >0.000000</td>\n",
       "      <td id=\"T_9034e_row3_col2\" class=\"data row3 col2\" >23.000000</td>\n",
       "      <td id=\"T_9034e_row3_col3\" class=\"data row3 col3\" >44.000000</td>\n",
       "      <td id=\"T_9034e_row3_col4\" class=\"data row3 col4\" >51.330000</td>\n",
       "      <td id=\"T_9034e_row3_col5\" class=\"data row3 col5\" >99.000000</td>\n",
       "    </tr>\n",
       "    <tr>\n",
       "      <th id=\"T_9034e_level0_row4\" class=\"row_heading level0 row4\" >insulin</th>\n",
       "      <td id=\"T_9034e_row4_col0\" class=\"data row4 col0\" >0.000000</td>\n",
       "      <td id=\"T_9034e_row4_col1\" class=\"data row4 col1\" >0.000000</td>\n",
       "      <td id=\"T_9034e_row4_col2\" class=\"data row4 col2\" >30.500000</td>\n",
       "      <td id=\"T_9034e_row4_col3\" class=\"data row4 col3\" >293.000000</td>\n",
       "      <td id=\"T_9034e_row4_col4\" class=\"data row4 col4\" >519.900000</td>\n",
       "      <td id=\"T_9034e_row4_col5\" class=\"data row4 col5\" >846.000000</td>\n",
       "    </tr>\n",
       "    <tr>\n",
       "      <th id=\"T_9034e_level0_row5\" class=\"row_heading level0 row5\" >bmi</th>\n",
       "      <td id=\"T_9034e_row5_col0\" class=\"data row5 col0\" >0.000000</td>\n",
       "      <td id=\"T_9034e_row5_col1\" class=\"data row5 col1\" >21.800000</td>\n",
       "      <td id=\"T_9034e_row5_col2\" class=\"data row5 col2\" >32.000000</td>\n",
       "      <td id=\"T_9034e_row5_col3\" class=\"data row5 col3\" >44.395000</td>\n",
       "      <td id=\"T_9034e_row5_col4\" class=\"data row5 col4\" >50.759000</td>\n",
       "      <td id=\"T_9034e_row5_col5\" class=\"data row5 col5\" >67.100000</td>\n",
       "    </tr>\n",
       "    <tr>\n",
       "      <th id=\"T_9034e_level0_row6\" class=\"row_heading level0 row6\" >dpf</th>\n",
       "      <td id=\"T_9034e_row6_col0\" class=\"data row6 col0\" >0.078000</td>\n",
       "      <td id=\"T_9034e_row6_col1\" class=\"data row6 col1\" >0.140350</td>\n",
       "      <td id=\"T_9034e_row6_col2\" class=\"data row6 col2\" >0.372500</td>\n",
       "      <td id=\"T_9034e_row6_col3\" class=\"data row6 col3\" >1.132850</td>\n",
       "      <td id=\"T_9034e_row6_col4\" class=\"data row6 col4\" >1.698330</td>\n",
       "      <td id=\"T_9034e_row6_col5\" class=\"data row6 col5\" >2.420000</td>\n",
       "    </tr>\n",
       "    <tr>\n",
       "      <th id=\"T_9034e_level0_row7\" class=\"row_heading level0 row7\" >age</th>\n",
       "      <td id=\"T_9034e_row7_col0\" class=\"data row7 col0\" >21.000000</td>\n",
       "      <td id=\"T_9034e_row7_col1\" class=\"data row7 col1\" >21.000000</td>\n",
       "      <td id=\"T_9034e_row7_col2\" class=\"data row7 col2\" >29.000000</td>\n",
       "      <td id=\"T_9034e_row7_col3\" class=\"data row7 col3\" >58.000000</td>\n",
       "      <td id=\"T_9034e_row7_col4\" class=\"data row7 col4\" >67.000000</td>\n",
       "      <td id=\"T_9034e_row7_col5\" class=\"data row7 col5\" >81.000000</td>\n",
       "    </tr>\n",
       "    <tr>\n",
       "      <th id=\"T_9034e_level0_row8\" class=\"row_heading level0 row8\" >outcome</th>\n",
       "      <td id=\"T_9034e_row8_col0\" class=\"data row8 col0\" >0.000000</td>\n",
       "      <td id=\"T_9034e_row8_col1\" class=\"data row8 col1\" >0.000000</td>\n",
       "      <td id=\"T_9034e_row8_col2\" class=\"data row8 col2\" >0.000000</td>\n",
       "      <td id=\"T_9034e_row8_col3\" class=\"data row8 col3\" >1.000000</td>\n",
       "      <td id=\"T_9034e_row8_col4\" class=\"data row8 col4\" >1.000000</td>\n",
       "      <td id=\"T_9034e_row8_col5\" class=\"data row8 col5\" >1.000000</td>\n",
       "    </tr>\n",
       "  </tbody>\n",
       "</table>\n"
      ],
      "text/plain": [
       "<pandas.io.formats.style.Styler at 0x7f0517b9b1f0>"
      ]
     },
     "metadata": {},
     "output_type": "display_data"
    },
    {
     "data": {
      "text/markdown": [
       "<span style='text-decoration:None;text-align:center;font-size:20px;color:#7d8a35'>______________________________________________________</span>"
      ],
      "text/plain": [
       "<IPython.core.display.Markdown object>"
      ]
     },
     "metadata": {},
     "output_type": "display_data"
    },
    {
     "name": "stdout",
     "output_type": "stream",
     "text": [
      "\n"
     ]
    }
   ],
   "source": [
    "data_research(df, data_name='Diabetes')\n"
   ]
  },
  {
   "cell_type": "markdown",
   "id": "cc810511",
   "metadata": {
    "id": "1be6a6cc-a376-49fe-ae0d-bdffcf22002b"
   },
   "source": [
    "### The data looks to be in good order and cleaned before my acquistion since there is no nulls, proper data types and a target varialbe that has been encoded."
   ]
  },
  {
   "cell_type": "markdown",
   "id": "f591798d",
   "metadata": {
    "id": "27996375-617a-4841-b076-1de04d6ee67b"
   },
   "source": [
    "# <div style=\"color:white;display:fill;border-radius:5px;background-color:#4a708b;font-family:DM Serif Display;overflow:hidden\"><p style=\"padding:20px;color:white;overflow:hidden;font-size:90%;letter-spacing:0.5px;margin:0\"><b>B ) </b> Feature Relationships </p></div>"
   ]
  },
  {
   "cell_type": "code",
   "execution_count": 5,
   "id": "d09fa774-9894-47ee-8d79-866514d796b6",
   "metadata": {
    "id": "d09fa774-9894-47ee-8d79-866514d796b6",
    "tags": []
   },
   "outputs": [],
   "source": [
    "titledict=dict(family=\"Arial\",\n",
    "               size=24,\n",
    "               color='#000000')\n",
    "fontdict=dict(family=\"Arial\",\n",
    "               size=18,\n",
    "               color='#000000')"
   ]
  },
  {
   "cell_type": "code",
   "execution_count": 6,
   "id": "f928539e",
   "metadata": {
    "id": "9de80d44-1ec8-4c2c-920e-e269a4e2836c",
    "tags": []
   },
   "outputs": [
    {
     "data": {
      "text/html": [
       "<iframe\n",
       "    scrolling=\"no\"\n",
       "    width=\"100%\"\n",
       "    height=\"820\"\n",
       "    src=\"iframe_figures/figure_6.html\"\n",
       "    frameborder=\"0\"\n",
       "    allowfullscreen\n",
       "></iframe>\n"
      ]
     },
     "metadata": {},
     "output_type": "display_data"
    }
   ],
   "source": [
    "ind = df['outcome'].astype('category').cat.codes\n",
    "\n",
    "fig = go.Figure(data=go.Splom(\n",
    "                dimensions=[dict(label='Pregnancies',\n",
    "                                 values=df['pregnancies']),\n",
    "                            dict(label='Glucose',\n",
    "                                 values=df['glucose']),\n",
    "                            dict(label='Blood Pressure',\n",
    "                                 values=df['bp']),\n",
    "                            dict(label='ST',\n",
    "                                 values=df['st']),\n",
    "                            dict(label='Insulin',\n",
    "                                 values=df['insulin']),\n",
    "                            dict(label='BMI',\n",
    "                                 values=df['bmi']),\n",
    "                            dict(label='DPF',\n",
    "                                 values=df['dpf'])],\n",
    "                showupperhalf=False, \n",
    "                text=df['outcome'],\n",
    "                marker=dict(color=ind,\n",
    "                            showscale=False, \n",
    "                            line_color='white', line_width=0.5)\n",
    "                ))\n",
    "\n",
    "\n",
    "fig.update_layout(#font=fontdict,\n",
    "                  height =800,\n",
    "                  title=dict(\n",
    "                      text= \"Feature Relationships\",\n",
    "                      font=titledict))\n",
    "fig.show()\n",
    "\n"
   ]
  },
  {
   "cell_type": "markdown",
   "id": "9cdfa8bb",
   "metadata": {
    "id": "437790fc-0861-4e09-8d93-098e982f25df"
   },
   "source": [
    "# <div style=\"color:white;display:fill;border-radius:5px;background-color:#4a708b;font-family:DM Serif Display;overflow:hidden\"><p style=\"padding:20px;color:white;overflow:hidden;font-size:90%;letter-spacing:0.5px;margin:0\"><b>C ) </b> Distributions of Features</p></div>"
   ]
  },
  {
   "cell_type": "code",
   "execution_count": 7,
   "id": "07ace14b",
   "metadata": {
    "id": "7728ebfb-2fab-4aab-81ab-068fc3b200fc",
    "tags": []
   },
   "outputs": [
    {
     "data": {
      "text/html": [
       "<iframe\n",
       "    scrolling=\"no\"\n",
       "    width=\"100%\"\n",
       "    height=\"1020\"\n",
       "    src=\"iframe_figures/figure_7.html\"\n",
       "    frameborder=\"0\"\n",
       "    allowfullscreen\n",
       "></iframe>\n"
      ]
     },
     "metadata": {},
     "output_type": "display_data"
    }
   ],
   "source": [
    "titles = list(df.columns)\n",
    "for i in range(len(titles)):\n",
    "    titles[i] = titles[i].capitalize()\n",
    "\n",
    "plot_rows=3\n",
    "plot_cols=3\n",
    "fig = make_subplots(rows=plot_rows, cols=plot_cols)# subplot_titles=titles)\n",
    "\n",
    "# add traces\n",
    "x = 0\n",
    "for i in range(1, plot_rows + 1):\n",
    "    for j in range(1, plot_cols + 1):\n",
    "        #print(str(i)+ ', ' + str(j))\n",
    "        fig.add_trace(go.Box(y=df[df.columns[x]].values,\n",
    "                                 name = df.columns[x].title(),\n",
    "                            ),\n",
    "                     row=i,\n",
    "                     col=j)\n",
    "\n",
    "        x=x+1\n",
    "\n",
    "# Format and show fig\n",
    "fig.update_layout(height=1000, title='Distribution Of Each Feature', title_font=titledict, font=fontdict)\n",
    "fig.show()"
   ]
  },
  {
   "cell_type": "markdown",
   "id": "013a32d2",
   "metadata": {
    "id": "e8de83cc-bfb8-458e-999b-fe04a3ff52ac"
   },
   "source": [
    "> Excluding DiabetesPedigree Function and insulin the data seems to be without many outliers. I little later I will look to see how much of an impact those outliers affect the model and than assess if they need to be excluded."
   ]
  },
  {
   "cell_type": "code",
   "execution_count": 8,
   "id": "7e199e1c",
   "metadata": {
    "id": "4ae1b003-c6c8-4c48-8089-cd9464feaa74",
    "tags": []
   },
   "outputs": [
    {
     "data": {
      "text/html": [
       "<iframe\n",
       "    scrolling=\"no\"\n",
       "    width=\"100%\"\n",
       "    height=\"545px\"\n",
       "    src=\"iframe_figures/figure_8.html\"\n",
       "    frameborder=\"0\"\n",
       "    allowfullscreen\n",
       "></iframe>\n"
      ]
     },
     "metadata": {},
     "output_type": "display_data"
    }
   ],
   "source": [
    "def hist_plots(data, rows, cols, title):\n",
    "    plot_rows=rows\n",
    "    plot_cols=cols\n",
    "    fig = make_subplots(rows=plot_rows, cols=plot_cols, subplot_titles=titles)\n",
    "\n",
    "    # add traces\n",
    "    x = 0\n",
    "    for i in range(1, plot_rows + 1):\n",
    "        for j in range(1, plot_cols + 1):\n",
    "            #print(str(i)+ ', ' + str(j))\n",
    "            fig.add_trace(go.Histogram(x=data[data.columns[x]].values,\n",
    "                                    name = data.columns[x].title()\n",
    "                                ),\n",
    "                        row=i,\n",
    "                        col=j)\n",
    "\n",
    "            x=x+1\n",
    "\n",
    "    # Format and show fig\n",
    "    fig.update_layout(font = fontdict, title_font=titledict, title = title)\n",
    "    fig.show()\n",
    "\n",
    "hist_plots(data = df, rows=4, cols=2, title=\"Distribution of Data - Original\")\n",
    "\n"
   ]
  },
  {
   "cell_type": "markdown",
   "id": "00c23a39",
   "metadata": {
    "id": "3086f0b5-cc04-45e2-bc13-43e8b02b3af3"
   },
   "source": [
    "> It seems like we seem to have alot of values of 0 so my early presumption of no NaNs might be inncorrect and we they are just labeled as 0. For certain columns like pregancies a value of 0 would be fine however with Blood Pressure, Skin Thickness, BMI, Glucose and insulin a 0 would be a result of missing data. "
   ]
  },
  {
   "cell_type": "markdown",
   "id": "234b0632",
   "metadata": {
    "id": "042bf208-da86-4d0e-bb74-9517c63931b4"
   },
   "source": [
    "# <div style=\"color:white;display:fill;border-radius:5px;background-color:#4a708b;font-family:DM Serif Display;overflow:hidden\"><p style=\"padding:20px;color:white;overflow:hidden;font-size:90%;letter-spacing:0.5px;margin:0\"><b>D ) </b> Missing Values</p></div>"
   ]
  },
  {
   "cell_type": "code",
   "execution_count": 9,
   "id": "4aed8723",
   "metadata": {
    "id": "4559bb61-2348-40cd-80c2-58ea589efb29",
    "tags": []
   },
   "outputs": [
    {
     "name": "stdout",
     "output_type": "stream",
     "text": [
      "Bmi has 11 number of cases that are 0 in value,\n",
      "Percent: 1.4322916666666667  %\n",
      "outcome\n",
      "0    9\n",
      "1    2\n",
      "Name: age, dtype: int64\n",
      "\n",
      "Glucose has 5 number of cases that are 0 in value,\n",
      "Percent: 0.6510416666666666  %\n",
      "outcome\n",
      "0    3\n",
      "1    2\n",
      "Name: age, dtype: int64\n",
      "\n",
      "Bp has 35 number of cases that are 0 in value,\n",
      "Percent: 4.557291666666667  %\n",
      "outcome\n",
      "0    19\n",
      "1    16\n",
      "Name: age, dtype: int64\n",
      "\n",
      "St has 227 number of cases that are 0 in value,\n",
      "Percent: 29.557291666666668  %\n",
      "outcome\n",
      "0    139\n",
      "1     88\n",
      "Name: age, dtype: int64\n",
      "\n",
      "Insulin has 374 number of cases that are 0 in value,\n",
      "Percent: 48.697916666666664  %\n",
      "outcome\n",
      "0    236\n",
      "1    138\n",
      "Name: age, dtype: int64\n",
      "\n"
     ]
    }
   ],
   "source": [
    "cols_zeros = ['bmi','glucose','bp','st',\"insulin\"]\n",
    "total_values = len(df)\n",
    "\n",
    "for col in cols_zeros:\n",
    "    counts = df[df[col]==0][col].count()\n",
    "    print(str(col).title()+' has '+str(counts)+' number of cases that are 0 in value,\\nPercent:',100*counts/total_values,' %')\n",
    "    print(df[df[col] ==0].groupby('outcome')['age'].count())\n",
    "    print()\n",
    "\n"
   ]
  },
  {
   "cell_type": "markdown",
   "id": "4b1644f7",
   "metadata": {
    "id": "aaaec2f3-27d3-4d9c-a20f-56b85ef10d5a"
   },
   "source": [
    "> I think it will be best to fill values with mean to ensure outliers or missing data at zero do not unvalidate the later model"
   ]
  },
  {
   "cell_type": "markdown",
   "id": "91be0585",
   "metadata": {
    "id": "5f320321-2ded-4f79-8a93-ddff2c41afa7"
   },
   "source": [
    "# <div style=\"color:white;display:fill;border-radius:5px;background-color:#4a708b;font-family:DM Serif Display;overflow:hidden\"><p style=\"padding:20px;color:white;overflow:hidden;font-size:90%;letter-spacing:0.5px;margin:0\"><b>E ) </b> Handle Outliers </p></div>"
   ]
  },
  {
   "cell_type": "code",
   "execution_count": 10,
   "id": "954e4c17",
   "metadata": {
    "id": "23caac4a-ad94-435e-b3a8-7a4324f27bf7",
    "tags": []
   },
   "outputs": [],
   "source": [
    "mean0 = df[cols_zeros].mean()\n",
    "df[cols_zeros]=df[cols_zeros].replace(0, mean0)"
   ]
  },
  {
   "cell_type": "markdown",
   "id": "0ad4a129",
   "metadata": {
    "id": "d76cb6ec-296c-4087-b017-d3a137f9fcf2"
   },
   "source": [
    "> Now that we have address the 'missing values', let us start with our exploratory analysis."
   ]
  },
  {
   "cell_type": "markdown",
   "id": "42be1b91",
   "metadata": {
    "id": "0bef5f30-b8d6-4fc7-b8df-c0442bdb0f45"
   },
   "source": [
    "---\n",
    "# <div style=\"color:white;display:fill;border-radius:5px;background-color:#98f5ff;font-family:DM Serif Display;overflow:hidden\"><p style=\"padding:20px;color:black;overflow:hidden;font-size:120%;letter-spacing:0.5px;margin:0\"><b>Part II: </b> Visualization EDA  </p></div>\n",
    "\n",
    "# <div style=\"color:white;display:fill;border-radius:5px;background-color:#4a708b;font-family:DM Serif Display;overflow:hidden\"><p style=\"padding:20px;color:white;overflow:hidden;font-size:90%;letter-spacing:0.5px;margin:0\"><b>A ) </b> Distribution of Target Variable </p></div>"
   ]
  },
  {
   "cell_type": "markdown",
   "id": "20a8d7b2",
   "metadata": {
    "id": "f0335bc6-05d6-47db-98f8-8554958bdc64"
   },
   "source": [
    "> First we should look at an overview of the outcome distribution than we will dive into each variable and see if there is significant differences in how patients with Diabetes and those without Diabetes are distributed."
   ]
  },
  {
   "cell_type": "code",
   "execution_count": 11,
   "id": "75c4bb34",
   "metadata": {
    "id": "9ddee296-c833-48d9-b6de-8e115cd611c0",
    "tags": []
   },
   "outputs": [
    {
     "data": {
      "text/html": [
       "<iframe\n",
       "    scrolling=\"no\"\n",
       "    width=\"100%\"\n",
       "    height=\"720\"\n",
       "    src=\"iframe_figures/figure_11.html\"\n",
       "    frameborder=\"0\"\n",
       "    allowfullscreen\n",
       "></iframe>\n"
      ]
     },
     "metadata": {},
     "output_type": "display_data"
    }
   ],
   "source": [
    "colors = ['SteelBlue', 'SandyBrown']\n",
    "labels=['No Diabetes','Yes, Diabetes']\n",
    "values= list(df.outcome.value_counts())\n",
    "\n",
    "fig = go.Figure(data=[go.Pie(labels=labels, values=values, hole=.3)])\n",
    "fig.update_layout(height=700, font=fontdict)\n",
    "\n",
    "fig.update_traces(hoverinfo='label+value', textinfo='percent', textfont_size=25,\n",
    "                  marker=dict(colors=colors, line=dict(color='#000000', width=2)))\n",
    "fig.add_annotation(dict(font=titledict,\n",
    "                        x=0.55,\n",
    "                        y=1.05,\n",
    "                        text=\"Distribution of Outcomes in Patients\",\n",
    "                        bordercolor=\"SandyBrown\",\n",
    "                        borderwidth=4,\n",
    "                        borderpad=12,\n",
    "                        bgcolor=\"SteelBlue\"))\n",
    "fig.show()"
   ]
  },
  {
   "cell_type": "code",
   "execution_count": 12,
   "id": "2fbe7abe",
   "metadata": {
    "id": "5aa36a00-2cde-4c10-a35a-cef2b50bf68f",
    "tags": []
   },
   "outputs": [
    {
     "data": {
      "text/html": [
       "<iframe\n",
       "    scrolling=\"no\"\n",
       "    width=\"100%\"\n",
       "    height=\"545px\"\n",
       "    src=\"iframe_figures/figure_12.html\"\n",
       "    frameborder=\"0\"\n",
       "    allowfullscreen\n",
       "></iframe>\n"
      ]
     },
     "metadata": {},
     "output_type": "display_data"
    }
   ],
   "source": [
    "surv = df[df['outcome']==0]['age']\n",
    "not_surv = df[df['outcome']==1]['age']\n",
    "hist_data = [surv,not_surv]\n",
    "group_labels = ['Not Diabetic', 'Diabetic']\n",
    "fig = ff.create_distplot(hist_data, group_labels, bin_size=0.5)\n",
    "fig.update_layout(font=fontdict, title={'text':'Analysis in Age on Diabetic Status', \n",
    "                                                     'font':titledict, 'x':0.45})\n",
    "fig.update_xaxes(title='Age')\n",
    "\n",
    "fig.show()"
   ]
  },
  {
   "cell_type": "code",
   "execution_count": 13,
   "id": "fc7682c6",
   "metadata": {
    "id": "3e7f4d23-12e2-4729-8fe2-c69365011555",
    "tags": []
   },
   "outputs": [
    {
     "data": {
      "text/html": [
       "<iframe\n",
       "    scrolling=\"no\"\n",
       "    width=\"100%\"\n",
       "    height=\"545px\"\n",
       "    src=\"iframe_figures/figure_13.html\"\n",
       "    frameborder=\"0\"\n",
       "    allowfullscreen\n",
       "></iframe>\n"
      ]
     },
     "metadata": {},
     "output_type": "display_data"
    }
   ],
   "source": [
    "surv = df[df['outcome']==0]['glucose']\n",
    "not_surv = df[df['outcome']==1]['glucose']\n",
    "hist_data = [surv,not_surv]\n",
    "group_labels = ['Not Diabetic', 'Diabetic']\n",
    "fig = ff.create_distplot(hist_data, group_labels, bin_size=0.5)\n",
    "fig.update_layout(font=fontdict, title={'text':'Analysis in Glucose on Diabetic Status', \n",
    "                                                     'font':titledict, 'x':0.45})\n",
    "fig.update_xaxes(title='Glucose Concentration Level')\n",
    "\n",
    "fig.show()"
   ]
  },
  {
   "cell_type": "code",
   "execution_count": 14,
   "id": "a3f7a719",
   "metadata": {
    "id": "028ec9c9-7211-42f4-a412-a4e627d52ba8",
    "tags": []
   },
   "outputs": [
    {
     "data": {
      "text/html": [
       "<iframe\n",
       "    scrolling=\"no\"\n",
       "    width=\"100%\"\n",
       "    height=\"545px\"\n",
       "    src=\"iframe_figures/figure_14.html\"\n",
       "    frameborder=\"0\"\n",
       "    allowfullscreen\n",
       "></iframe>\n"
      ]
     },
     "metadata": {},
     "output_type": "display_data"
    }
   ],
   "source": [
    "surv = df[df['outcome']==0]['bp']\n",
    "not_surv = df[df['outcome']==1]['bp']\n",
    "hist_data = [surv,not_surv]\n",
    "group_labels = ['Not Diabetic', 'Diabetic']\n",
    "fig = ff.create_distplot(hist_data, group_labels, bin_size=0.5)\n",
    "fig.update_layout(font=fontdict, \n",
    "                  title={'text':'Analysis in Blood Pressure on Diabetic Status', 'font':titledict, 'x':0.5})\n",
    "fig.show()"
   ]
  },
  {
   "cell_type": "code",
   "execution_count": 15,
   "id": "3b5a04ad",
   "metadata": {
    "id": "82944f7d-e392-409a-8bab-642d098e31d6",
    "tags": []
   },
   "outputs": [
    {
     "data": {
      "text/html": [
       "<iframe\n",
       "    scrolling=\"no\"\n",
       "    width=\"100%\"\n",
       "    height=\"545px\"\n",
       "    src=\"iframe_figures/figure_15.html\"\n",
       "    frameborder=\"0\"\n",
       "    allowfullscreen\n",
       "></iframe>\n"
      ]
     },
     "metadata": {},
     "output_type": "display_data"
    }
   ],
   "source": [
    "surv = df[df['outcome']==0]['bmi']\n",
    "not_surv = df[df['outcome']==1]['bmi']\n",
    "hist_data = [surv,not_surv]\n",
    "group_labels = ['Not Diabetic', 'Diabetic']\n",
    "fig = ff.create_distplot(hist_data, group_labels, bin_size=0.5)\n",
    "fig.update_layout(font=fontdict, title={'text':'Analysis in BMI on Diabetic Status', 'font':titledict, 'x':0.5})\n",
    "fig.update_xaxes(title='Blood Pressure Level (mm Hg)')\n",
    "fig.show()"
   ]
  },
  {
   "cell_type": "code",
   "execution_count": 16,
   "id": "79b7db19",
   "metadata": {
    "id": "7d4a39f4-bdbe-49bb-933d-bab632c895d7",
    "tags": []
   },
   "outputs": [
    {
     "data": {
      "text/html": [
       "<iframe\n",
       "    scrolling=\"no\"\n",
       "    width=\"100%\"\n",
       "    height=\"545px\"\n",
       "    src=\"iframe_figures/figure_16.html\"\n",
       "    frameborder=\"0\"\n",
       "    allowfullscreen\n",
       "></iframe>\n"
      ]
     },
     "metadata": {},
     "output_type": "display_data"
    }
   ],
   "source": [
    "surv = df[df['outcome']==0]['pregnancies']\n",
    "not_surv = df[df['outcome']==1]['pregnancies']\n",
    "hist_data = [surv,not_surv]\n",
    "group_labels = ['Not Diabetic', 'Diabetic']\n",
    "fig = ff.create_distplot(hist_data, group_labels, bin_size=0.5)\n",
    "fig.update_layout(font=fontdict, title={'text':'Analysis in Pregnancies on Diabetic Status', 'font':titledict, 'x':0.5})\n",
    "fig.show()"
   ]
  },
  {
   "cell_type": "code",
   "execution_count": 17,
   "id": "52b61cd8",
   "metadata": {
    "id": "31f466ad-74bd-49bb-bcb7-14794f69d3f2",
    "tags": []
   },
   "outputs": [
    {
     "data": {
      "text/html": [
       "<iframe\n",
       "    scrolling=\"no\"\n",
       "    width=\"100%\"\n",
       "    height=\"545px\"\n",
       "    src=\"iframe_figures/figure_17.html\"\n",
       "    frameborder=\"0\"\n",
       "    allowfullscreen\n",
       "></iframe>\n"
      ]
     },
     "metadata": {},
     "output_type": "display_data"
    }
   ],
   "source": [
    "df['outcome'] =df['outcome'].astype(str)\n",
    "fig = px.scatter(df, y=\"age\", x=\"dpf\", color=\"outcome\", marginal_x='violin', marginal_y='box', trendline='ols', hover_data=df.columns)\n",
    "fig.update_layout(font=fontdict, title={'text':\"Analysis in Age and Diabetic Pedigree Fuction on Diabetic Status\", \n",
    "                                                    'font':titledict, 'x':0.5})\n",
    "fig.show()\n",
    "df['outcome'] =df['outcome'].astype(int)"
   ]
  },
  {
   "cell_type": "markdown",
   "id": "64138f9f",
   "metadata": {
    "id": "49515b70-44b3-444c-ba81-27af1b506f8c"
   },
   "source": [
    "**Preliminary Analysis:**\n",
    "From the distribution of most of the factors, it seems like variables like Glucose, BMI and Age play the most pivotal role in the propensity to becom diabetic."
   ]
  },
  {
   "cell_type": "markdown",
   "id": "7ff7ddd1",
   "metadata": {
    "id": "1c2cc490-2724-411e-8665-e255ff929825"
   },
   "source": [
    "---\n",
    "\n",
    "# <div style=\"color:white;display:fill;border-radius:5px;background-color:#4a708b;font-family:DM Serif Display;overflow:hidden\"><p style=\"padding:20px;color:white;overflow:hidden;font-size:90%;letter-spacing:0.5px;margin:0\"><b>B ) </b> Correlation</p></div>"
   ]
  },
  {
   "cell_type": "code",
   "execution_count": 18,
   "id": "45442867",
   "metadata": {
    "id": "81f776fa-bd91-4929-a797-0252ea2ee3be",
    "tags": []
   },
   "outputs": [
    {
     "name": "stdout",
     "output_type": "stream",
     "text": [
      "Top Absolute Correlations\n",
      "pregnancies  age        0.544341\n",
      "st           bmi        0.535703\n",
      "glucose      outcome    0.492908\n",
      "             insulin    0.396597\n",
      "bp           age        0.326740\n",
      "bmi          outcome    0.312254\n",
      "bp           bmi        0.281231\n",
      "glucose      age        0.266600\n",
      "st           insulin    0.240361\n",
      "age          outcome    0.238356\n",
      "glucose      bmi        0.231478\n",
      "pregnancies  outcome    0.221898\n",
      "glucose      bp         0.219666\n",
      "pregnancies  bp         0.208984\n",
      "insulin      bmi        0.189856\n",
      "dtype: float64\n"
     ]
    }
   ],
   "source": [
    "print(\"Top Absolute Correlations\")\n",
    "print(get_top_abs_correlations(df, 15))"
   ]
  },
  {
   "cell_type": "code",
   "execution_count": 19,
   "id": "5d1a2916",
   "metadata": {
    "id": "bca49f53-6139-44e9-af86-a675dc774ce6",
    "tags": []
   },
   "outputs": [
    {
     "data": {
      "text/html": [
       "<iframe\n",
       "    scrolling=\"no\"\n",
       "    width=\"1020px\"\n",
       "    height=\"1020\"\n",
       "    src=\"iframe_figures/figure_19.html\"\n",
       "    frameborder=\"0\"\n",
       "    allowfullscreen\n",
       "></iframe>\n"
      ]
     },
     "metadata": {},
     "output_type": "display_data"
    },
    {
     "name": "stdout",
     "output_type": "stream",
     "text": [
      "They Most Correlated Factor to being Diabetic are :              outcome\n",
      "outcome       1.0000\n",
      "glucose       0.4929\n",
      "bmi           0.3123\n",
      "age           0.2384\n",
      "pregnancies   0.2219\n",
      "insulin       0.1792\n",
      "st            0.1750\n",
      "dpf           0.1738\n",
      "bp            0.1630\n"
     ]
    }
   ],
   "source": [
    "heatmaps_tri(df,temp='plotly_dark')\n",
    "corr = round(df.corr(),4)\n",
    "dcorr = corr.iloc[8]\n",
    "dcdf = pd.DataFrame(dcorr)\n",
    "print('They Most Correlated Factor to being Diabetic are :',dcdf.sort_values(by='outcome', ascending=False\n",
    "                      ))"
   ]
  },
  {
   "cell_type": "markdown",
   "id": "23454086",
   "metadata": {
    "id": "158c6741-3e4d-4ddb-bf06-e6c6aa67f606"
   },
   "source": [
    "# <div style=\"color:white;display:fill;border-radius:5px;background-color:#98f5ff;font-family:DM Serif Display;overflow:hidden\"><p style=\"padding:20px;color:black;overflow:hidden;font-size:120%;letter-spacing:0.5px;margin:0\"><b>Part III: </b> Modeling Time  </p></div>\n",
    "\n",
    "# <div style=\"color:white;display:fill;border-radius:5px;background-color:#4a708b;font-family:DM Serif Display;overflow:hidden\"><p style=\"padding:20px;color:white;overflow:hidden;font-size:90%;letter-spacing:0.5px;margin:0\"><b>A ) </b> Feature Engineering </p></div>"
   ]
  },
  {
   "cell_type": "markdown",
   "id": "4a2a05a8",
   "metadata": {
    "id": "92e4ef9a-fb22-458e-9969-8325c902ab9f"
   },
   "source": [
    "> Now it is time to make sure all are features are finely tuned to and to check and see if there are any other featues we can add by converting som of the more contious features into categorical features. We will start by adding a vfew new categorical columns for BMI, Blood Pressure, Gluclose Levels and Insulin. By seperating them into below average, average, above average and abnormal groups we will be able to have a better way to train our model and gauge if someone is or is on the track to becoming diabetic.\n"
   ]
  },
  {
   "cell_type": "code",
   "execution_count": 20,
   "id": "92054e6f",
   "metadata": {
    "id": "cc2ab8bc-3651-4686-963c-ab5a5aef3960",
    "tags": []
   },
   "outputs": [],
   "source": [
    "# Always smart to make a copy of your data before feature engineering\n",
    "data = df.copy(deep=True)"
   ]
  },
  {
   "cell_type": "markdown",
   "id": "db6499aa",
   "metadata": {
    "id": "3f4cd9b8-9469-415a-a9b9-39ac7d15b59d"
   },
   "source": [
    "## 1. Body Mass Index"
   ]
  },
  {
   "cell_type": "markdown",
   "id": "b165789e",
   "metadata": {
    "id": "bf17eb87-af1f-4b41-aa6d-6b6357d9d352"
   },
   "source": [
    "#### Create new categories for BMI using the [CDC's](https://www.cdc.gov/healthyweight/assessing/bmi/adult_bmi/index.html) methodology for BMI categories. However I did add a Morbid section for thouse who are more an order of maginutude away from normal."
   ]
  },
  {
   "cell_type": "code",
   "execution_count": 21,
   "id": "fe15ebff",
   "metadata": {
    "id": "a45703f3-1c7b-4ff6-a24d-bd2b7003af18",
    "tags": []
   },
   "outputs": [
    {
     "data": {
      "text/plain": [
       "bmi_cat        \n",
       "Obesese            385\n",
       "Overweight         179\n",
       "Normal             106\n",
       "MorbidlyObesese     96\n",
       "Underweight          0\n",
       "dtype: int64"
      ]
     },
     "execution_count": 21,
     "metadata": {},
     "output_type": "execute_result"
    }
   ],
   "source": [
    "\n",
    "bmis = pd.Series([\"Underweight\", \"Normal\", \"Overweight\", \"Obesese\", \"MorbidlyObesese\"], dtype = \"category\")\n",
    "\n",
    "df[\"bmi_cat\"] = bmis\n",
    "\n",
    "df.loc[df[\"bmi\"] < 18.5, \"bmi_cat\"] = bmis[0]\n",
    "df.loc[(df[\"bmi\"] > 18.0) & (df[\"bmi\"] <= 24.9), \"bmi_cat\"] = bmis[1]\n",
    "df.loc[(df[\"bmi\"] > 24.9) & (df[\"bmi\"] <= 29.9), \"bmi_cat\"] = bmis[2]\n",
    "df.loc[(df[\"bmi\"] > 29.9) & (df[\"bmi\"] <= 39.9), \"bmi_cat\"] = bmis[3]\n",
    "df.loc[(df[\"bmi\"] > 40.), \"bmi_cat\"] = bmis[4]\n",
    "\n",
    "df.value_counts(['bmi_cat'])"
   ]
  },
  {
   "cell_type": "markdown",
   "id": "d20ccfa8",
   "metadata": {
    "id": "2730762e-a172-4dac-a97f-ec8d02b05f7a"
   },
   "source": [
    "#### Create new categories for Blood Pressure using the [Mayo Clinic's](https://www.mayoclinic.org/diseases-conditions/high-blood-pressure/in-depth/blood-pressure/art-20050982) methodology for Blood Pressure categories. "
   ]
  },
  {
   "cell_type": "code",
   "execution_count": 22,
   "id": "74c9a6ca",
   "metadata": {
    "id": "bdefa76b-1d50-47df-bf72-2eb047e6adf6",
    "tags": []
   },
   "outputs": [],
   "source": [
    "def bp_cats(r):\n",
    "    if r[\"bp\"] <= 80:\n",
    "        return \"Normal\"\n",
    "    elif r[\"bp\"]> 80 and r[\"bp\"] <= 90:\n",
    "        return \"Highbp1\"\n",
    "    elif r[\"bp\"]> 90 and r[\"bp\"] <= 119:\n",
    "        return \"Highbp2\"\n",
    "    elif r[\"bp\"] == 0:\n",
    "        return \"Unknown\"\n",
    "    else:\n",
    "        return \"Abnormal\""
   ]
  },
  {
   "cell_type": "code",
   "execution_count": 23,
   "id": "8dc26d1b",
   "metadata": {
    "id": "6891775f-42d9-4f72-bcb4-98ec4f1c5003",
    "tags": []
   },
   "outputs": [
    {
     "data": {
      "text/plain": [
       "bp_cat  \n",
       "Normal      603\n",
       "Highbp1     127\n",
       "Highbp2      37\n",
       "Abnormal      1\n",
       "dtype: int64"
      ]
     },
     "execution_count": 23,
     "metadata": {},
     "output_type": "execute_result"
    }
   ],
   "source": [
    "df['bp_cat'] = df.apply(bp_cats, axis=1)\n",
    "df.value_counts(['bp_cat'])"
   ]
  },
  {
   "cell_type": "markdown",
   "id": "303cfb0a",
   "metadata": {
    "id": "2233b4a0-a2b0-4ee0-bc95-ce6c8b7c11fc"
   },
   "source": [
    "#### Create new categories for Glucose Levels using the [Mayo Clinic's](https://www.mayoclinic.org/diseases-conditions/diabetes/in-depth/blood-sugar/art-20046628) methodology for Glucose categories. "
   ]
  },
  {
   "cell_type": "code",
   "execution_count": 24,
   "id": "0fd37f17",
   "metadata": {
    "id": "481ee589-cd1f-4254-90dc-e3d2be261844",
    "tags": []
   },
   "outputs": [],
   "source": [
    "glucoses = pd.Series(['Normal', 'Impaired', 'Diabetic)'],dtype = \"category\")\n",
    "\n",
    "df[\"glucose_cat\"] = glucoses\n",
    "\n",
    "df.loc[df[\"glucose\"] < 130.0, \"glucose_cat\"] = glucoses[0]\n",
    "df.loc[(df[\"glucose\"] > 130.1) & (df[\"glucose\"] <= 160.0), \"glucose_cat\"] = glucoses[1]\n",
    "df.loc[(df[\"glucose\"] > 160.0), \"glucose_cat\"] = glucoses[2]\n"
   ]
  },
  {
   "cell_type": "code",
   "execution_count": 25,
   "id": "4b59f059",
   "metadata": {
    "id": "c331b83d-0afd-42f5-ab37-a37c26c7c30c",
    "tags": []
   },
   "outputs": [
    {
     "data": {
      "text/plain": [
       "glucose_cat\n",
       "Normal         510\n",
       "Impaired       150\n",
       "Diabetic)      101\n",
       "dtype: int64"
      ]
     },
     "execution_count": 25,
     "metadata": {},
     "output_type": "execute_result"
    }
   ],
   "source": [
    "df.value_counts(['glucose_cat'])"
   ]
  },
  {
   "cell_type": "markdown",
   "id": "d89a9f28",
   "metadata": {
    "id": "ecf31759-6ac9-40c8-92d6-097fb8341fda"
   },
   "source": [
    "#### Create new categories for Insulin Levels using the [Mayo Clinic's](https://www.mayoclinic.org/diseases-conditions/high-blood-pressure/in-depth/blood-pressure/art-20050982) methodology for Inslulin categories. "
   ]
  },
  {
   "cell_type": "code",
   "execution_count": 26,
   "id": "0c43687c",
   "metadata": {
    "id": "fd38640a-217d-4863-a757-6550ef271138",
    "tags": []
   },
   "outputs": [],
   "source": [
    "def insulin_cats(r):\n",
    "    if r[\"insulin\"] >= 16 and r[\"insulin\"] <= 90:\n",
    "        return \"Normal\"\n",
    "    elif r[\"insulin\"]> 90 and r[\"insulin\"] <= 160:\n",
    "        return \"Needs_Improvement\"\n",
    "    elif r[\"insulin\"] == 0:\n",
    "        return \"Unknown\"\n",
    "    else:\n",
    "        return \"Abnormal\""
   ]
  },
  {
   "cell_type": "code",
   "execution_count": 27,
   "id": "38e61ac7",
   "metadata": {
    "id": "65535bba-b98f-4557-9915-b8f5258612ba",
    "scrolled": true,
    "tags": []
   },
   "outputs": [
    {
     "data": {
      "text/plain": [
       "insulin_cat      \n",
       "Normal               499\n",
       "Abnormal             139\n",
       "Needs_Improvement    130\n",
       "dtype: int64"
      ]
     },
     "execution_count": 27,
     "metadata": {},
     "output_type": "execute_result"
    }
   ],
   "source": [
    "df['insulin_cat'] = df.apply(insulin_cats, axis=1)\n",
    "df.value_counts(['insulin_cat'])"
   ]
  },
  {
   "cell_type": "markdown",
   "id": "2b7b792d",
   "metadata": {
    "id": "dd6aa5b0-4bff-49bc-a80f-eadc6b3189a8"
   },
   "source": [
    "#### Create Dummies to better process these new features and derive more meaning from them."
   ]
  },
  {
   "cell_type": "code",
   "execution_count": 28,
   "id": "61263407",
   "metadata": {
    "id": "794af5be-26a5-4bef-9f47-f1aafb653473",
    "tags": []
   },
   "outputs": [],
   "source": [
    "dfdummy = pd.get_dummies(df, columns = ['bp_cat', 'bmi_cat', 'glucose_cat', 'insulin_cat'], drop_first= True)\n",
    "dfdummy.columns = dfdummy.columns.str.lower()"
   ]
  },
  {
   "cell_type": "code",
   "execution_count": 29,
   "id": "8aebae55",
   "metadata": {
    "id": "577040a9-2fd7-40fd-933a-bbc1e927210b",
    "tags": []
   },
   "outputs": [
    {
     "name": "stdout",
     "output_type": "stream",
     "text": [
      "Orignial Data Shape: (768, 9)\n",
      "Categorical Data Shape: (768, 13)\n",
      "Dummy Data Shape: (768, 20)\n"
     ]
    }
   ],
   "source": [
    "print(\"Orignial Data Shape:\", data.shape)\n",
    "print(\"Categorical Data Shape:\",df.shape)\n",
    "print(\"Dummy Data Shape:\",dfdummy.shape)"
   ]
  },
  {
   "cell_type": "markdown",
   "id": "29bc9544",
   "metadata": {
    "id": "8c2f4082-3c28-4fc9-9b98-e7675a46f318"
   },
   "source": [
    "# <div style=\"color:white;display:fill;border-radius:5px;background-color:#4a708b;font-family:DM Serif Display;overflow:hidden\"><p style=\"padding:20px;color:white;overflow:hidden;font-size:90%;letter-spacing:0.5px;margin:0\"><b>B ) </b> Scale The Data</p></div>"
   ]
  },
  {
   "cell_type": "markdown",
   "id": "a100f80d",
   "metadata": {
    "id": "a9240f42-af30-4f9f-ac77-93d888c12176"
   },
   "source": [
    "> Since we do have a fair bit of outliers and the data is alot more categorical at this point I believe using the median to scale as oppose to the mean would be the best course of action when it comes to scaling, therefor I am going to apply a Robust Scaler"
   ]
  },
  {
   "cell_type": "code",
   "execution_count": 30,
   "id": "63aec311",
   "metadata": {
    "id": "52fc3eed-c9b7-498e-a84b-ee711b1827de",
    "tags": []
   },
   "outputs": [],
   "source": [
    "y = dfdummy.outcome\n",
    "X = dfdummy.drop(['outcome', 'bp_cat_highbp1', 'bp_cat_highbp2', 'bp_cat_normal',\n",
    "       'bmi_cat_normal', 'bmi_cat_obesese', 'bmi_cat_overweight',\n",
    "       'bmi_cat_underweight', 'glucose_cat_impaired', 'glucose_cat_normal',\n",
    "       'insulin_cat_needs_improvement', 'insulin_cat_normal'], axis = 1)\n",
    "cols = X.columns\n",
    "index = X.index"
   ]
  },
  {
   "cell_type": "markdown",
   "id": "8dce1eb7",
   "metadata": {
    "id": "77694329-9ffa-4ab2-aabc-91cd3c934feb"
   },
   "source": [
    "> Scale the Data and then merge it back with the categorical dummy data"
   ]
  },
  {
   "cell_type": "code",
   "execution_count": 31,
   "id": "348b8cfc",
   "metadata": {
    "id": "0c39066b-16ba-4cb4-88c4-6f04c0bcb426",
    "tags": []
   },
   "outputs": [],
   "source": [
    "transformer = RobustScaler().fit(X)\n",
    "X = transformer.transform(X)\n",
    "X = pd.DataFrame(X, columns = cols, index = index)"
   ]
  },
  {
   "cell_type": "code",
   "execution_count": 32,
   "id": "6e1eb20b",
   "metadata": {
    "id": "dcdf34c8-6db2-4ae2-8eca-01792ad8e6fa",
    "tags": []
   },
   "outputs": [],
   "source": [
    "X = pd.concat([X, dfdummy.iloc[:,9:]], axis = 1)\n"
   ]
  },
  {
   "cell_type": "markdown",
   "id": "b232326e",
   "metadata": {
    "id": "1b30f4ee-3ab5-424f-93d3-9404ef1b0e53"
   },
   "source": [
    "# <div style=\"color:white;display:fill;border-radius:5px;background-color:#98f5ff;font-family:DM Serif Display;overflow:hidden\"><p style=\"padding:20px;color:black;overflow:hidden;font-size:120%;letter-spacing:0.5px;margin:0\"><b>Part IV: </b> Modeling Time  </p></div>\n",
    "\n",
    "# <div style=\"color:white;display:fill;border-radius:5px;background-color:#4a708b;font-family:DM Serif Display;overflow:hidden\"><p style=\"padding:20px;color:white;overflow:hidden;font-size:90%;letter-spacing:0.5px;margin:0\"><b>A ) </b> Train-Test Split </p></div>"
   ]
  },
  {
   "cell_type": "code",
   "execution_count": 33,
   "id": "40964957",
   "metadata": {
    "id": "e2c33cf5-ecdf-4525-8da7-3df0e27db7b8",
    "tags": []
   },
   "outputs": [],
   "source": [
    "X_train, X_test, y_train, y_test = train_test_split(X, y, test_size=0.2, random_state=45)"
   ]
  },
  {
   "cell_type": "code",
   "execution_count": 34,
   "id": "8012482b",
   "metadata": {
    "id": "6d929658-806b-4103-8fb0-0ac007ae64c2",
    "tags": []
   },
   "outputs": [
    {
     "name": "stdout",
     "output_type": "stream",
     "text": [
      "(614, 19) (614,)\n"
     ]
    }
   ],
   "source": [
    "print(X_train.shape,\n",
    "y_train.shape)"
   ]
  },
  {
   "cell_type": "markdown",
   "id": "9d6f6ac0",
   "metadata": {
    "id": "4d22a99d-ac6f-46a9-bafd-a94002cb74fe"
   },
   "source": [
    "# <div style=\"color:white;display:fill;border-radius:5px;background-color:#4a708b;font-family:DM Serif Display;overflow:hidden\"><p style=\"padding:20px;color:white;overflow:hidden;font-size:90%;letter-spacing:0.5px;margin:0\"><b>B ) </b> Create Pipline Of Models </p></div>\n",
    "> To find the best model we are going to set up a pipeline to run through the train and test features and test the accuracy"
   ]
  },
  {
   "cell_type": "code",
   "execution_count": 35,
   "id": "ff97d507-1825-42f4-8596-fa166764e819",
   "metadata": {
    "id": "ff97d507-1825-42f4-8596-fa166764e819",
    "tags": []
   },
   "outputs": [],
   "source": [
    "from sklearn.naive_bayes import GaussianNB"
   ]
  },
  {
   "cell_type": "code",
   "execution_count": 36,
   "id": "9db88dbb",
   "metadata": {
    "id": "750402f8-1ab3-4bd0-9468-ef6d233b3246",
    "tags": []
   },
   "outputs": [],
   "source": [
    "clfs = []\n",
    "clfs.append(('Logistic Regression', LogisticRegression()))\n",
    "clfs.append(('KNeighbors', KNeighborsClassifier()))\n",
    "clfs.append(('Support Vector', SVC()))\n",
    "clfs.append(('Decision Tree', DecisionTreeClassifier()))\n",
    "clfs.append(('Random Forest', RandomForestClassifier()))\n",
    "clfs.append(('AdaBoost', AdaBoostClassifier()))\n",
    "clfs.append(('Gradient Boosting', GradientBoostingClassifier()))\n",
    "clfs.append((\"GaussianNB\", GaussianNB()))"
   ]
  },
  {
   "cell_type": "markdown",
   "id": "7a061a8e",
   "metadata": {
    "id": "42053795-a745-4c10-a798-d780301f3235"
   },
   "source": [
    "# <div style=\"color:white;display:fill;border-radius:5px;background-color:#4a708b;font-family:DM Serif Display;overflow:hidden\"><p style=\"padding:20px;color:white;overflow:hidden;font-size:90%;letter-spacing:0.5px;margin:0\"><b>C ) </b> Run Models </p></div>"
   ]
  },
  {
   "cell_type": "code",
   "execution_count": 37,
   "id": "6a1505ed",
   "metadata": {
    "id": "e01db59d-586a-444a-9606-06913b753f98",
    "tags": []
   },
   "outputs": [],
   "source": [
    "\n",
    "def run_model(clf):\n",
    "    ### Simple Function to run a model with the basics in order\n",
    "    ## Will be used in the next for statemtnt to run each model\n",
    "    Features = ['pregnancies', 'glucose', 'bp', 'st', 'insulin', 'bmi', 'dpf', 'age']\n",
    "    X = df[Features]\n",
    "    y = df.outcome\n",
    "    X_train, X_test, y_train, y_test = train_test_split(X, y, test_size=0.2, random_state=45)\n",
    "    \n",
    "    clf_fit = clf.fit(X_train, y_train)\n",
    "    clf_pred = clf_fit.predict(X_test)\n",
    "    clf_acc = accuracy_score(y_test, clf_pred)\n",
    "    accuracy_list.append(100*clf_acc)\n",
    "        \n",
    "    return( \"{:.3f}%\".format(100* clf_acc))"
   ]
  },
  {
   "cell_type": "code",
   "execution_count": 38,
   "id": "d59fdbe4",
   "metadata": {
    "id": "281dd010-7827-4a61-b905-ea3c6b594792",
    "tags": []
   },
   "outputs": [
    {
     "data": {
      "text/html": [
       "<div>\n",
       "<style scoped>\n",
       "    .dataframe tbody tr th:only-of-type {\n",
       "        vertical-align: middle;\n",
       "    }\n",
       "\n",
       "    .dataframe tbody tr th {\n",
       "        vertical-align: top;\n",
       "    }\n",
       "\n",
       "    .dataframe thead th {\n",
       "        text-align: right;\n",
       "    }\n",
       "</style>\n",
       "<table border=\"1\" class=\"dataframe\">\n",
       "  <thead>\n",
       "    <tr style=\"text-align: right;\">\n",
       "      <th></th>\n",
       "      <th>Classifier</th>\n",
       "      <th>Score</th>\n",
       "    </tr>\n",
       "  </thead>\n",
       "  <tbody>\n",
       "    <tr>\n",
       "      <th>0</th>\n",
       "      <td>Logistic Regression</td>\n",
       "      <td>75.974</td>\n",
       "    </tr>\n",
       "    <tr>\n",
       "      <th>1</th>\n",
       "      <td>KNeighbors</td>\n",
       "      <td>75.325</td>\n",
       "    </tr>\n",
       "    <tr>\n",
       "      <th>2</th>\n",
       "      <td>Support Vector</td>\n",
       "      <td>74.026</td>\n",
       "    </tr>\n",
       "    <tr>\n",
       "      <th>3</th>\n",
       "      <td>Decision Tree</td>\n",
       "      <td>68.831</td>\n",
       "    </tr>\n",
       "    <tr>\n",
       "      <th>4</th>\n",
       "      <td>Random Forest</td>\n",
       "      <td>75.325</td>\n",
       "    </tr>\n",
       "    <tr>\n",
       "      <th>5</th>\n",
       "      <td>AdaBoost</td>\n",
       "      <td>74.026</td>\n",
       "    </tr>\n",
       "    <tr>\n",
       "      <th>6</th>\n",
       "      <td>Gradient Boosting</td>\n",
       "      <td>72.078</td>\n",
       "    </tr>\n",
       "    <tr>\n",
       "      <th>7</th>\n",
       "      <td>GaussianNB</td>\n",
       "      <td>74.675</td>\n",
       "    </tr>\n",
       "  </tbody>\n",
       "</table>\n",
       "</div>"
      ],
      "text/plain": [
       "            Classifier   Score\n",
       "0  Logistic Regression  75.974\n",
       "1           KNeighbors  75.325\n",
       "2       Support Vector  74.026\n",
       "3        Decision Tree  68.831\n",
       "4        Random Forest  75.325\n",
       "5             AdaBoost  74.026\n",
       "6    Gradient Boosting  72.078\n",
       "7           GaussianNB  74.675"
      ]
     },
     "execution_count": 38,
     "metadata": {},
     "output_type": "execute_result"
    }
   ],
   "source": [
    "\n",
    "accuracy_list= []\n",
    "clf_acc = []\n",
    "acc = []\n",
    "cmx=[]\n",
    "for name, clf in clfs:\n",
    "    X_train, X_test, y_train, y_test = train_test_split(X, y, test_size=0.2, random_state=45)\n",
    "    clf.fit(X_train, y_train)\n",
    "    y_pred = clf.predict(X_test)\n",
    "    acscore = accuracy_score(y_test, y_pred)\n",
    "    cm=cfmx(y_test, y_pred)\n",
    "    \n",
    "    cmx.append(cm)\n",
    "    acc.append(round(acscore*100, 3))\n",
    "    clf_acc.append(name)\n",
    "accscore = pd.DataFrame({'Classifier': clf_acc, 'Score': acc})\n",
    "cmatrix = pd.DataFrame({'Classifier':clf_acc, 'Cmx': cmx})\n",
    "# boxplot algorithm comparison\n",
    "\n",
    "\n",
    "accscore"
   ]
  },
  {
   "cell_type": "markdown",
   "id": "e27a5f58",
   "metadata": {
    "id": "aee83c00-0a52-4b0d-aba3-bc2a5af1ee13"
   },
   "source": [
    "\n",
    "# <div style=\"color:white;display:fill;border-radius:5px;background-color:#4a708b;font-family:DM Serif Display;overflow:hidden\"><p style=\"padding:20px;color:white;overflow:hidden;font-size:90%;letter-spacing:0.5px;margin:0\"><b>D ) </b> Cross Validation </p></div>"
   ]
  },
  {
   "cell_type": "code",
   "execution_count": 39,
   "id": "70f9f0aa",
   "metadata": {
    "id": "df51441a-d163-4f7b-a7e0-28f226a76ad4",
    "tags": []
   },
   "outputs": [],
   "source": [
    "def kfold_CVs(clf):\n",
    "        kfold = KFold(n_splits=10, shuffle=True, random_state=45) \n",
    "        score = cross_val_score(clf, X, y, cv=kfold, scoring='accuracy').mean()\n",
    "    \n",
    "        return(\"{:.3f}%\".format(100*score,3))"
   ]
  },
  {
   "cell_type": "code",
   "execution_count": 40,
   "id": "0234b25d",
   "metadata": {
    "id": "fa1c2b2a-a927-4fb3-a7b1-c33a5ea40488",
    "tags": []
   },
   "outputs": [
    {
     "name": "stdout",
     "output_type": "stream",
     "text": [
      "Cross Validation Score of LogisticRegression: 75.786%\n",
      "Cross Validation Score of AdaBoostClassifier: 73.568%\n",
      "Cross Validation Score of GradientBoostingClassifier: 74.356%\n",
      "Cross Validation Score of KNeighborsClassifier: 73.313%\n",
      "Cross Validation Score of DecisionTreeClassifier: 67.061%\n",
      "Cross Validation Score of RandomForestClassifier: 77.221%\n",
      "Cross Validation Score of SupportVectorClassifier: 76.830%\n",
      "Cross Validation Score of GaussianNaiveBayesClassifier: 72.915%\n"
     ]
    },
    {
     "data": {
      "text/html": [
       "<div>\n",
       "<style scoped>\n",
       "    .dataframe tbody tr th:only-of-type {\n",
       "        vertical-align: middle;\n",
       "    }\n",
       "\n",
       "    .dataframe tbody tr th {\n",
       "        vertical-align: top;\n",
       "    }\n",
       "\n",
       "    .dataframe thead th {\n",
       "        text-align: right;\n",
       "    }\n",
       "</style>\n",
       "<table border=\"1\" class=\"dataframe\">\n",
       "  <thead>\n",
       "    <tr style=\"text-align: right;\">\n",
       "      <th></th>\n",
       "      <th>Classifier</th>\n",
       "      <th>Score</th>\n",
       "    </tr>\n",
       "  </thead>\n",
       "  <tbody>\n",
       "    <tr>\n",
       "      <th>0</th>\n",
       "      <td>Logistic Regression</td>\n",
       "      <td>75.786</td>\n",
       "    </tr>\n",
       "    <tr>\n",
       "      <th>1</th>\n",
       "      <td>KNeighbors</td>\n",
       "      <td>73.313</td>\n",
       "    </tr>\n",
       "    <tr>\n",
       "      <th>2</th>\n",
       "      <td>Support Vector</td>\n",
       "      <td>76.830</td>\n",
       "    </tr>\n",
       "    <tr>\n",
       "      <th>3</th>\n",
       "      <td>Decision Tree</td>\n",
       "      <td>69.137</td>\n",
       "    </tr>\n",
       "    <tr>\n",
       "      <th>4</th>\n",
       "      <td>Random Forest</td>\n",
       "      <td>76.437</td>\n",
       "    </tr>\n",
       "    <tr>\n",
       "      <th>5</th>\n",
       "      <td>AdaBoost</td>\n",
       "      <td>73.568</td>\n",
       "    </tr>\n",
       "    <tr>\n",
       "      <th>6</th>\n",
       "      <td>Gradient Boosting</td>\n",
       "      <td>74.228</td>\n",
       "    </tr>\n",
       "    <tr>\n",
       "      <th>7</th>\n",
       "      <td>GaussianNB</td>\n",
       "      <td>72.915</td>\n",
       "    </tr>\n",
       "  </tbody>\n",
       "</table>\n",
       "</div>"
      ],
      "text/plain": [
       "            Classifier   Score\n",
       "0  Logistic Regression  75.786\n",
       "1           KNeighbors  73.313\n",
       "2       Support Vector  76.830\n",
       "3        Decision Tree  69.137\n",
       "4        Random Forest  76.437\n",
       "5             AdaBoost  73.568\n",
       "6    Gradient Boosting  74.228\n",
       "7           GaussianNB  72.915"
      ]
     },
     "execution_count": 40,
     "metadata": {},
     "output_type": "execute_result"
    }
   ],
   "source": [
    "names = []\n",
    "scores = []\n",
    "for name, clf in clfs:\n",
    "    \n",
    "    kfold = KFold(n_splits=10, shuffle=True, random_state=45) \n",
    "    score = cross_val_score(clf, X, y, cv=kfold, scoring='accuracy').mean()\n",
    "    \n",
    "    names.append(name)\n",
    "    scores.append(round(score*100, 3))\n",
    "    \n",
    "kfcv_df = pd.DataFrame({'Classifier': names, 'Score': scores})\n",
    "\n",
    "print('Cross Validation Score of LogisticRegression:', kfold_CVs(LogisticRegression()))\n",
    "print('Cross Validation Score of AdaBoostClassifier:', kfold_CVs(AdaBoostClassifier()))\n",
    "print('Cross Validation Score of GradientBoostingClassifier:', kfold_CVs(GradientBoostingClassifier()))\n",
    "print('Cross Validation Score of KNeighborsClassifier:', kfold_CVs(KNeighborsClassifier()))\n",
    "print('Cross Validation Score of DecisionTreeClassifier:', kfold_CVs(DecisionTreeClassifier()))\n",
    "print('Cross Validation Score of RandomForestClassifier:', kfold_CVs(RandomForestClassifier()))\n",
    "print('Cross Validation Score of SupportVectorClassifier:', kfold_CVs(SVC()))\n",
    "print('Cross Validation Score of GaussianNaiveBayesClassifier:', kfold_CVs(GaussianNB()))\n",
    "kfcv_df"
   ]
  },
  {
   "cell_type": "markdown",
   "id": "d8b38f27",
   "metadata": {
    "id": "a05f3265-304a-49a6-8e4d-2e0b7456a2ba"
   },
   "source": [
    "> Cross Validation definitley assisted us with getting a betting accuracy score, now we have a cursory view of which model's might be for us. Logisitic Regression, Support Vector, Random Classifier and ADA Boost All did well"
   ]
  },
  {
   "cell_type": "code",
   "execution_count": 41,
   "id": "0d1cb26c",
   "metadata": {
    "id": "6671f80d-ca8d-4a98-813b-2ddbea46f2f5",
    "tags": []
   },
   "outputs": [
    {
     "data": {
      "text/html": [
       "<iframe\n",
       "    scrolling=\"no\"\n",
       "    width=\"100%\"\n",
       "    height=\"620\"\n",
       "    src=\"iframe_figures/figure_41.html\"\n",
       "    frameborder=\"0\"\n",
       "    allowfullscreen\n",
       "></iframe>\n"
      ]
     },
     "metadata": {},
     "output_type": "display_data"
    }
   ],
   "source": [
    "fig = px.bar(accscore, x = 'Classifier', y = 'Score', \n",
    "             color='Score',  color_continuous_scale=px.colors.sequential.Sunset,\n",
    "            hover_name=\"Score\", hover_data=[\"Classifier\"])\n",
    "fig.update_layout(height=600, font=fontdict, title={'text':'Accuracy Scores', 'font':titledict, 'x':0.5})\n",
    "\n",
    "\n",
    "fig.show()"
   ]
  },
  {
   "cell_type": "code",
   "execution_count": 42,
   "id": "f37e7e3e",
   "metadata": {
    "id": "e35295ed-8ee7-4396-8e39-be73fec4205b",
    "tags": []
   },
   "outputs": [
    {
     "data": {
      "text/html": [
       "<iframe\n",
       "    scrolling=\"no\"\n",
       "    width=\"100%\"\n",
       "    height=\"620\"\n",
       "    src=\"iframe_figures/figure_42.html\"\n",
       "    frameborder=\"0\"\n",
       "    allowfullscreen\n",
       "></iframe>\n"
      ]
     },
     "metadata": {},
     "output_type": "display_data"
    }
   ],
   "source": [
    "fig = px.bar(kfcv_df, x = 'Classifier', y = 'Score', title='Cross Validation Scores', \n",
    "             color='Score',  color_continuous_scale=px.colors.sequential.Sunset,\n",
    "            hover_name=\"Score\", hover_data=[\"Classifier\"])\n",
    "fig.update_layout(height=600, font=fontdict, title={'text':'Cross Validation Scores', 'font':titledict, 'x':0.5})\n",
    "\n",
    "fig.show()"
   ]
  },
  {
   "cell_type": "markdown",
   "id": "3c998ee4",
   "metadata": {
    "id": "37f743d9-4f05-408e-88c8-b7c3fda4476e"
   },
   "source": [
    "# <div style=\"color:white;display:fill;border-radius:5px;background-color:#4a708b;font-family:DM Serif Display;overflow:hidden\"><p style=\"padding:20px;color:white;overflow:hidden;font-size:90%;letter-spacing:0.5px;margin:0\"><b>E ) </b> Confusion Matrix </p></div>"
   ]
  },
  {
   "cell_type": "code",
   "execution_count": 43,
   "id": "51aecea0-514a-48f7-aa6d-5b6f77298d12",
   "metadata": {
    "id": "51aecea0-514a-48f7-aa6d-5b6f77298d12",
    "tags": []
   },
   "outputs": [
    {
     "data": {
      "text/html": [
       "<div>\n",
       "<style scoped>\n",
       "    .dataframe tbody tr th:only-of-type {\n",
       "        vertical-align: middle;\n",
       "    }\n",
       "\n",
       "    .dataframe tbody tr th {\n",
       "        vertical-align: top;\n",
       "    }\n",
       "\n",
       "    .dataframe thead th {\n",
       "        text-align: right;\n",
       "    }\n",
       "</style>\n",
       "<table border=\"1\" class=\"dataframe\">\n",
       "  <thead>\n",
       "    <tr style=\"text-align: right;\">\n",
       "      <th></th>\n",
       "      <th>Classifier</th>\n",
       "      <th>Cmx</th>\n",
       "    </tr>\n",
       "  </thead>\n",
       "  <tbody>\n",
       "    <tr>\n",
       "      <th>0</th>\n",
       "      <td>Logistic Regression</td>\n",
       "      <td>[[88, 16], [21, 29]]</td>\n",
       "    </tr>\n",
       "    <tr>\n",
       "      <th>1</th>\n",
       "      <td>KNeighbors</td>\n",
       "      <td>[[87, 17], [21, 29]]</td>\n",
       "    </tr>\n",
       "    <tr>\n",
       "      <th>2</th>\n",
       "      <td>Support Vector</td>\n",
       "      <td>[[89, 15], [25, 25]]</td>\n",
       "    </tr>\n",
       "    <tr>\n",
       "      <th>3</th>\n",
       "      <td>Decision Tree</td>\n",
       "      <td>[[78, 26], [22, 28]]</td>\n",
       "    </tr>\n",
       "    <tr>\n",
       "      <th>4</th>\n",
       "      <td>Random Forest</td>\n",
       "      <td>[[86, 18], [20, 30]]</td>\n",
       "    </tr>\n",
       "    <tr>\n",
       "      <th>5</th>\n",
       "      <td>AdaBoost</td>\n",
       "      <td>[[84, 20], [20, 30]]</td>\n",
       "    </tr>\n",
       "    <tr>\n",
       "      <th>6</th>\n",
       "      <td>Gradient Boosting</td>\n",
       "      <td>[[81, 23], [20, 30]]</td>\n",
       "    </tr>\n",
       "    <tr>\n",
       "      <th>7</th>\n",
       "      <td>GaussianNB</td>\n",
       "      <td>[[81, 23], [16, 34]]</td>\n",
       "    </tr>\n",
       "  </tbody>\n",
       "</table>\n",
       "</div>"
      ],
      "text/plain": [
       "            Classifier                   Cmx\n",
       "0  Logistic Regression  [[88, 16], [21, 29]]\n",
       "1           KNeighbors  [[87, 17], [21, 29]]\n",
       "2       Support Vector  [[89, 15], [25, 25]]\n",
       "3        Decision Tree  [[78, 26], [22, 28]]\n",
       "4        Random Forest  [[86, 18], [20, 30]]\n",
       "5             AdaBoost  [[84, 20], [20, 30]]\n",
       "6    Gradient Boosting  [[81, 23], [20, 30]]\n",
       "7           GaussianNB  [[81, 23], [16, 34]]"
      ]
     },
     "execution_count": 43,
     "metadata": {},
     "output_type": "execute_result"
    }
   ],
   "source": [
    "cmatrix"
   ]
  },
  {
   "cell_type": "code",
   "execution_count": 44,
   "id": "2f1970d6",
   "metadata": {
    "id": "325541dd-a77e-4a40-96b3-b694d48f1ad3",
    "scrolled": true,
    "tags": []
   },
   "outputs": [
    {
     "data": {
      "image/png": "[encoded data removed]",
      "text/plain": [
       "<Figure size 1080x720 with 2 Axes>"
      ]
     },
     "metadata": {},
     "output_type": "display_data"
    },
    {
     "data": {
      "image/png": "[encoded data removed]",
      "text/plain": [
       "<Figure size 1080x720 with 2 Axes>"
      ]
     },
     "metadata": {},
     "output_type": "display_data"
    },
    {
     "data": {
      "image/png": "[encoded data removed]",
      "text/plain": [
       "<Figure size 1080x720 with 2 Axes>"
      ]
     },
     "metadata": {},
     "output_type": "display_data"
    },
    {
     "data": {
      "image/png": "[encoded data removed]",
      "text/plain": [
       "<Figure size 1080x720 with 2 Axes>"
      ]
     },
     "metadata": {},
     "output_type": "display_data"
    },
    {
     "data": {
      "image/png": "[encoded data removed]",
      "text/plain": [
       "<Figure size 1080x720 with 2 Axes>"
      ]
     },
     "metadata": {},
     "output_type": "display_data"
    },
    {
     "data": {
      "image/png": "[encoded data removed]",
      "text/plain": [
       "<Figure size 1080x720 with 2 Axes>"
      ]
     },
     "metadata": {},
     "output_type": "display_data"
    },
    {
     "data": {
      "image/png": "[encoded data removed]",
      "text/plain": [
       "<Figure size 1080x720 with 2 Axes>"
      ]
     },
     "metadata": {},
     "output_type": "display_data"
    },
    {
     "data": {
      "image/png": "[encoded data removed]",
      "text/plain": [
       "<Figure size 1080x720 with 2 Axes>"
      ]
     },
     "metadata": {},
     "output_type": "display_data"
    }
   ],
   "source": [
    "for x in range(8):\n",
    "    cmap = sns.cm.rocket_r\n",
    "    sns.set(rc={\"figure.figsize\":(15, 10)})\n",
    "    fig, axes = plt.subplots(1,1)\n",
    "    sns.heatmap(cmatrix['Cmx'][x], cmap=cmap, annot=True,annot_kws={\"size\":24}).set_title(cmatrix['Classifier'][x], fontdict = { 'fontsize': 30})\n",
    "    "
   ]
  },
  {
   "cell_type": "markdown",
   "id": "cb3fc346",
   "metadata": {
    "id": "1399b954-89f6-47c3-ba32-8b29352e52aa"
   },
   "source": [
    "# <div style=\"color:white;display:fill;border-radius:5px;background-color:#4a708b;font-family:DM Serif Display;overflow:hidden\"><p style=\"padding:20px;color:white;overflow:hidden;font-size:90%;letter-spacing:0.5px;margin:0\"><b>F ) </b> Thoughts </p></div>\n",
    "> Logistic Regression, Gradient Boosting, Support Vector and Random Forest are the models we will explore more.\n",
    "\n",
    "---"
   ]
  },
  {
   "cell_type": "markdown",
   "id": "1f64aff3",
   "metadata": {
    "id": "e2355659-77a2-4ff1-872a-a7a634a0c662"
   },
   "source": [
    "# <div style=\"color:white;display:fill;border-radius:5px;background-color:#98f5ff;font-family:DM Serif Display;overflow:hidden\"><p style=\"padding:20px;color:black;overflow:hidden;font-size:120%;letter-spacing:0.5px;margin:0\"><b>Part V: </b> Hyper Tuning </p></div>\n",
    "\n",
    "> During the Hyertuning section we will run a GridSearchCV to see which paramater combination leads to the highest mean accuracy and proceed with that. Also I will run the default model parameters and a random selection of parameters to judge the efficacy of the GridSearchCV\n",
    "\n",
    "# <div style=\"color:white;display:fill;border-radius:5px;background-color:#4a708b;font-family:DM Serif Display;overflow:hidden\"><p style=\"padding:20px;color:white;overflow:hidden;font-size:90%;letter-spacing:0.5px;margin:0\"><b>A ) </b> Logisitic Regression </p></div>"
   ]
  },
  {
   "cell_type": "markdown",
   "id": "4caaca4a-d329-43cf-a038-7cafd627fbb7",
   "metadata": {
    "id": "6d9a44b2-d036-47dc-90ba-8d2f11ec1317"
   },
   "source": [
    "### HyperTuning *Logistic Regression* with GridSearchCV"
   ]
  },
  {
   "cell_type": "code",
   "execution_count": 45,
   "id": "cd283f4a",
   "metadata": {
    "id": "5b31bb96-c4dd-476e-8fa7-700c65faeb59",
    "tags": []
   },
   "outputs": [
    {
     "name": "stdout",
     "output_type": "stream",
     "text": [
      "Mean Accuracy: 0.769\n",
      "Config: {'C': 0.1, 'max_iter': 100, 'penalty': 'l2', 'solver': 'liblinear'}\n"
     ]
    }
   ],
   "source": [
    "LR = LogisticRegression()\n",
    "LRparam_grid = {\n",
    "    'C': [0.001, 0.01, 0.1, 1, 10, 100, 1000],\n",
    "    'penalty': ['l1', 'l2'],\n",
    "    'max_iter': list(range(100,800,100)),\n",
    "    'solver': ['newton-cg', 'lbfgs', 'liblinear', 'sag', 'saga']\n",
    "}\n",
    "LR_search = GridSearchCV(LR, param_grid=LRparam_grid, refit = True, verbose = False, cv=5)\n",
    "\n",
    "# fitting the model for grid search \n",
    "LR_search.fit(X_train, y_train)\n",
    "LR_search.best_params_\n",
    "# summarize\n",
    "print('Mean Accuracy: %.3f' % LR_search.best_score_)\n",
    "print('Config: %s' % LR_search.best_params_)"
   ]
  },
  {
   "cell_type": "markdown",
   "id": "33033bc6-4528-43ae-8007-cfe9659befc3",
   "metadata": {
    "id": "707e4616-f00b-4f83-9a77-e275a96564e4"
   },
   "source": [
    "#### GridSearch Winner"
   ]
  },
  {
   "cell_type": "code",
   "execution_count": 63,
   "id": "2460d4eb",
   "metadata": {
    "id": "95859b91-af0e-4077-a768-37627202f075",
    "tags": []
   },
   "outputs": [
    {
     "name": "stdout",
     "output_type": "stream",
     "text": [
      "Accuracy on training set: 0.780\n",
      "Accuracy on test set: 0.753\n"
     ]
    }
   ],
   "source": [
    "LR = LogisticRegression(random_state=45, C= 100, max_iter= 100, penalty='l2', solver= 'liblinear')\n",
    "LR_FIT = LR.fit(X_train, y_train)\n",
    "LR_pred = LR.predict(X_test)\n",
    "print(\"Accuracy on training set: {:.3f}\".format(LR.score(X_train, y_train)))\n",
    "print(\"Accuracy on test set: {:.3f}\".format(LR.score(X_test, y_test)))"
   ]
  },
  {
   "cell_type": "markdown",
   "id": "c36bc8ca-b02f-4f37-8961-c52230707cc1",
   "metadata": {
    "id": "80d71a5d-3cc6-4477-9b80-94f027c61b37",
    "tags": []
   },
   "source": [
    "#### Default Parameters"
   ]
  },
  {
   "cell_type": "code",
   "execution_count": 76,
   "id": "97982ec8",
   "metadata": {
    "id": "81ac18c6-aeba-4199-b4c9-d1304e190bf8",
    "tags": []
   },
   "outputs": [
    {
     "name": "stdout",
     "output_type": "stream",
     "text": [
      "Accuracy on training set: 0.783\n",
      "Accuracy on test set: 0.760\n"
     ]
    }
   ],
   "source": [
    "LR2 = LogisticRegression(random_state=45)\n",
    "LR2_FIT = LR2.fit(X_train, y_train)\n",
    "LR2_pred = LR2.predict(X_test)\n",
    "print(\"Accuracy on training set: {:.3f}\".format(LR2.score(X_train, y_train)))\n",
    "print(\"Accuracy on test set: {:.3f}\".format(LR2.score(X_test, y_test)))"
   ]
  },
  {
   "cell_type": "markdown",
   "id": "0e5dfff4-282d-418f-b15f-4dd3d6a837a4",
   "metadata": {
    "id": "0dec70c0-115a-4965-b384-beb9610b5621"
   },
   "source": [
    "#### Random Parameters"
   ]
  },
  {
   "cell_type": "code",
   "execution_count": 65,
   "id": "c43c4915",
   "metadata": {
    "id": "ca7021ff-9202-4b9c-b93e-3f2636d25b8f",
    "tags": []
   },
   "outputs": [
    {
     "name": "stdout",
     "output_type": "stream",
     "text": [
      "Accuracy on training set: 0.780\n",
      "Accuracy on test set: 0.753\n"
     ]
    }
   ],
   "source": [
    "LR3 = LogisticRegression(random_state=45, C= 1000, max_iter= 700, penalty='l2', solver= 'lbfgs')\n",
    "LR3_FIT = LR3.fit(X_train, y_train)\n",
    "lr_pred = LR.predict(X_test)\n",
    "print(\"Accuracy on training set: {:.3f}\".format(LR3.score(X_train, y_train)))\n",
    "print(\"Accuracy on test set: {:.3f}\".format(LR3.score(X_test, y_test)))"
   ]
  },
  {
   "cell_type": "markdown",
   "id": "ba51df68",
   "metadata": {
    "id": "02563310-feaa-4acb-943e-2f156ebef85a"
   },
   "source": [
    "# <div style=\"color:white;display:fill;border-radius:5px;background-color:#4a708b;font-family:DM Serif Display;overflow:hidden\"><p style=\"padding:20px;color:white;overflow:hidden;font-size:90%;letter-spacing:0.5px;margin:0\"><b>B ) </b> Support Vector </p></div>"
   ]
  },
  {
   "cell_type": "markdown",
   "id": "93aa7145-ab0b-49ba-8fe1-0d3cd7e2bc18",
   "metadata": {
    "id": "61fdca94-24fa-476a-ad57-4c65ee401a0d"
   },
   "source": [
    "### HyperTuning *Support Vector Classifer* with GridSearchCV"
   ]
  },
  {
   "cell_type": "code",
   "execution_count": 49,
   "id": "74e714ad",
   "metadata": {
    "id": "ff1c7d1a-d285-485d-97f2-89313b49547e",
    "tags": []
   },
   "outputs": [
    {
     "name": "stdout",
     "output_type": "stream",
     "text": [
      "Mean Accuracy: 0.772\n",
      "Config: {'C': 100, 'degree': 1, 'gamma': 0.001, 'kernel': 'rbf'}\n"
     ]
    },
    {
     "data": {
      "text/plain": [
       "{'C': 100, 'degree': 1, 'gamma': 0.001, 'kernel': 'rbf'}"
      ]
     },
     "execution_count": 49,
     "metadata": {},
     "output_type": "execute_result"
    }
   ],
   "source": [
    "from sklearn.svm import SVC\n",
    "svm = SVC()\n",
    "svmparam_grid = {\n",
    "    'C':[0.1,1,100,1000],\n",
    "    'kernel':['rbf','poly','sigmoid','linear'],\n",
    "    'degree':[1,3,5],\n",
    "    'gamma': [1, 0.1, 0.01, 0.001, 0.0001]}\n",
    "\n",
    "svm_search = GridSearchCV(svm, param_grid=svmparam_grid, refit = True, verbose = False, cv=5)\n",
    "svm_search.fit(X_train,y_train)\n",
    "svm_search.best_params_\n",
    "\n",
    "print('Mean Accuracy: %.3f' % svm_search.best_score_)\n",
    "print('Config: %s' % svm_search.best_params_)\n",
    "svm_search.best_params_"
   ]
  },
  {
   "cell_type": "markdown",
   "id": "4676cf45-26cb-4611-95de-e28ca0d80271",
   "metadata": {
    "id": "d92eb67b-fc68-45ec-829e-e783f0a9319b"
   },
   "source": [
    "#### GridSearch Winner"
   ]
  },
  {
   "cell_type": "code",
   "execution_count": 66,
   "id": "b3152a67",
   "metadata": {
    "id": "3f0dd130-abf3-4086-aea9-a1389b05a3a3",
    "tags": []
   },
   "outputs": [
    {
     "name": "stdout",
     "output_type": "stream",
     "text": [
      "Accuracy on training set=0.787\n",
      "Accuracy on test set=0.773\n"
     ]
    }
   ],
   "source": [
    "svm = SVC(random_state=45, C=1000, degree=1, gamma=0.0001, kernel='rbf')\n",
    "svm_FIT = svm.fit(X_train, y_train)\n",
    "svm_pred = svm.predict(X_test)\n",
    "print(\"Accuracy on training set={:.3f}\".format(svm.score(X_train, y_train)))\n",
    "print(\"Accuracy on test set={:.3f}\".format(svm.score(X_test, y_test)))"
   ]
  },
  {
   "cell_type": "markdown",
   "id": "641fb366-bbca-4cb2-9599-68e98212fd04",
   "metadata": {
    "id": "162a6910-d70b-41e9-9ea1-47d678a17e13"
   },
   "source": [
    "#### Default Parameters"
   ]
  },
  {
   "cell_type": "code",
   "execution_count": 67,
   "id": "34f4f8d7",
   "metadata": {
    "id": "96d1bd53-f3da-4d12-8e9f-a7fe55fb6e6c",
    "tags": []
   },
   "outputs": [
    {
     "name": "stdout",
     "output_type": "stream",
     "text": [
      "Accuracy on training set: 0.826\n",
      "Accuracy on test set: 0.740\n"
     ]
    }
   ],
   "source": [
    "svm2 = SVC(random_state=45)\n",
    "svm2_FIT = svm2.fit(X_train, y_train)\n",
    "svm2_pred = svm2.predict(X_test)\n",
    "print(\"Accuracy on training set: {:.3f}\".format(svm2.score(X_train, y_train)))\n",
    "print(\"Accuracy on test set: {:.3f}\".format(svm2.score(X_test, y_test)))"
   ]
  },
  {
   "cell_type": "markdown",
   "id": "5032e681-0684-4aed-93a4-6057dd1ca24a",
   "metadata": {
    "id": "16bde62a-08aa-4da9-83c7-0dd514827412"
   },
   "source": [
    "#### Random Parameters"
   ]
  },
  {
   "cell_type": "code",
   "execution_count": 68,
   "id": "7a20b8ac",
   "metadata": {
    "id": "c0c7a66c-7ba7-44be-a292-8c750d092948",
    "tags": []
   },
   "outputs": [
    {
     "name": "stdout",
     "output_type": "stream",
     "text": [
      "Accuracy on training set: 0.787\n",
      "Accuracy on test set: 0.740\n"
     ]
    }
   ],
   "source": [
    "svm3 = SVC(random_state=45, C=1000, degree=3, gamma=0.01, kernel='linear')\n",
    "svm3_FIT = svm3.fit(X_train, y_train)\n",
    "svm3_pred = svm3.predict(X_test)\n",
    "print(\"Accuracy on training set: {:.3f}\".format(svm3.score(X_train, y_train)))\n",
    "print(\"Accuracy on test set: {:.3f}\".format(svm3.score(X_test, y_test)))"
   ]
  },
  {
   "cell_type": "markdown",
   "id": "c0f96585",
   "metadata": {
    "id": "338ad483-4d46-4d18-a6d6-8b5019d0bc82"
   },
   "source": [
    "# <div style=\"color:white;display:fill;border-radius:5px;background-color:#4a708b;font-family:DM Serif Display;overflow:hidden\"><p style=\"padding:20px;color:white;overflow:hidden;font-size:90%;letter-spacing:0.5px;margin:0\"><b>C ) </b> Gradient Boost </p></div>"
   ]
  },
  {
   "cell_type": "markdown",
   "id": "0507fbb5-0819-46fa-b219-8c46e1dabcea",
   "metadata": {
    "id": "aac97a5f-a95e-45fc-ac41-2c45d0e6af8c"
   },
   "source": [
    "### HyperTuning *Gradient Boosting* with GridSearchCV"
   ]
  },
  {
   "cell_type": "code",
   "execution_count": 53,
   "id": "70a96605",
   "metadata": {
    "id": "28015666-b126-4569-adf5-e46a724c80be",
    "tags": []
   },
   "outputs": [
    {
     "name": "stdout",
     "output_type": "stream",
     "text": [
      "Mean Accuracy: 0.780\n",
      "Config: {'learning_rate': 0.01, 'max_depth': 7, 'min_samples_split': 0.2, 'n_estimators': 500, 'subsample': 1.0}\n"
     ]
    },
    {
     "data": {
      "text/plain": [
       "{'learning_rate': 0.01,\n",
       " 'max_depth': 7,\n",
       " 'min_samples_split': 0.2,\n",
       " 'n_estimators': 500,\n",
       " 'subsample': 1.0}"
      ]
     },
     "execution_count": 53,
     "metadata": {},
     "output_type": "execute_result"
    }
   ],
   "source": [
    "GBC = GradientBoostingClassifier(random_state = 45)\n",
    "GBCparam_grid = {\n",
    "    \"n_estimators\":[5,50,500],\n",
    "    \"max_depth\":[1,3,5,7,9],\n",
    "    \"learning_rate\":[0.01,1,100],\n",
    "    \"min_samples_split\": np.linspace(0.1, 0.5, 5),\n",
    "    \"subsample\":[0.5, 0.9, 1.0]\n",
    "\n",
    "}\n",
    "GBC_search = GridSearchCV(GBC, param_grid=GBCparam_grid, refit = True, n_jobs=-1, verbose = False, cv=5)\n",
    "GBC_search.fit(X_train, y_train)\n",
    "GBC_search.best_params_\n",
    "# summarize\n",
    "print('Mean Accuracy: %.3f' % GBC_search.best_score_)\n",
    "print('Config: %s' % GBC_search.best_params_)\n",
    "GBC_search.best_params_"
   ]
  },
  {
   "cell_type": "markdown",
   "id": "2370016d",
   "metadata": {
    "id": "898d9b14-dc28-4322-9c76-eba53ca7d2bf"
   },
   "source": [
    "Fitting the model for grid search "
   ]
  },
  {
   "cell_type": "markdown",
   "id": "2e2ae4c6-00c4-491d-b328-0956e46a96d7",
   "metadata": {
    "id": "5fd9cc4c-e1b9-49e8-a8e6-484c8f7634de"
   },
   "source": [
    "#### GridSearch Winner"
   ]
  },
  {
   "cell_type": "code",
   "execution_count": 69,
   "id": "4db909c0",
   "metadata": {
    "id": "7b2bf39e-0037-4306-83c9-23cbe71b559a",
    "tags": []
   },
   "outputs": [
    {
     "name": "stdout",
     "output_type": "stream",
     "text": [
      "Accuracy on training set: 0.889\n",
      "Accuracy on test set: 0.727\n"
     ]
    }
   ],
   "source": [
    "GBC = GradientBoostingClassifier(random_state=45, learning_rate= 0.1, max_depth= 5, min_samples_split= 0.23333333333333334, n_estimators= 50, subsample= 1.0)\n",
    "GBC_FIT = GBC.fit(X_train, y_train)\n",
    "GBC_pred = GBC.predict(X_test)\n",
    "print(\"Accuracy on training set: {:.3f}\".format(GBC.score(X_train, y_train)))\n",
    "print(\"Accuracy on test set: {:.3f}\".format(GBC.score(X_test, y_test)))"
   ]
  },
  {
   "cell_type": "markdown",
   "id": "f295c017-8879-4719-b2d9-416e207495f6",
   "metadata": {
    "id": "f37fa487-d75f-4619-ac23-16af6d81fc1a"
   },
   "source": [
    "#### Default Parameters"
   ]
  },
  {
   "cell_type": "code",
   "execution_count": 70,
   "id": "d504f6a9",
   "metadata": {
    "id": "af32be56-baae-4f3a-918e-9e6371b2256d",
    "tags": []
   },
   "outputs": [
    {
     "name": "stdout",
     "output_type": "stream",
     "text": [
      "Accuracy on training set: 1.000\n",
      "Accuracy on test set: 0.701\n"
     ]
    }
   ],
   "source": [
    "GBC2 = GradientBoostingClassifier(random_state=45, learning_rate=0.01, max_depth= 9, n_estimators=500, subsample=1.0)\n",
    "GBC2_FIT = GBC2.fit(X_train, y_train)\n",
    "GBC2_pred = GBC2.predict(X_test)\n",
    "print(\"Accuracy on training set: {:.3f}\".format(GBC2.score(X_train, y_train)))\n",
    "print(\"Accuracy on test set: {:.3f}\".format(GBC2.score(X_test, y_test)))"
   ]
  },
  {
   "cell_type": "markdown",
   "id": "5f4a9604-d661-458a-a423-fd1204bac2cd",
   "metadata": {
    "id": "f38976f9-9c40-44f8-9d8f-ff532af56675"
   },
   "source": [
    "#### Random Parameters"
   ]
  },
  {
   "cell_type": "code",
   "execution_count": 71,
   "id": "dac524a3",
   "metadata": {
    "id": "98ca87dc-eccf-45b3-afa2-196533e71ed3",
    "tags": []
   },
   "outputs": [
    {
     "name": "stdout",
     "output_type": "stream",
     "text": [
      "Accuracy on training set: 0.935\n",
      "Accuracy on test set: 0.708\n"
     ]
    }
   ],
   "source": [
    "GBC3 = GradientBoostingClassifier(random_state=45,learning_rate= 0.1, max_depth= 7, min_samples_split= 0.18888888888888888, n_estimators= 50, subsample= 1.0)\n",
    "GBC3_FIT = GBC3.fit(X_train, y_train)\n",
    "GBC3_pred = GBC3.predict(X_test)\n",
    "print(\"Accuracy on training set: {:.3f}\".format(GBC3.score(X_train, y_train)))\n",
    "print(\"Accuracy on test set: {:.3f}\".format(GBC3.score(X_test, y_test)))"
   ]
  },
  {
   "cell_type": "markdown",
   "id": "54282961",
   "metadata": {
    "id": "f89f90b8-b53d-486c-9c4e-195b017b3433"
   },
   "source": [
    "# <div style=\"color:white;display:fill;border-radius:5px;background-color:#4a708b;font-family:DM Serif Display;overflow:hidden\"><p style=\"padding:20px;color:white;overflow:hidden;font-size:90%;letter-spacing:0.5px;margin:0\"><b>D ) </b> Random Forest </p></div>"
   ]
  },
  {
   "cell_type": "markdown",
   "id": "4d0c316e-6f0b-41d3-9f97-39a27cc24e93",
   "metadata": {
    "id": "f17d35d2-927f-410e-b66a-b916feeadfd3"
   },
   "source": [
    "### HyperTuning *Random Forest* with GridSearchCV"
   ]
  },
  {
   "cell_type": "code",
   "execution_count": 57,
   "id": "9aee7c36",
   "metadata": {
    "id": "62511b18-2404-48ce-ba9a-1e8856e35b46",
    "scrolled": true,
    "tags": []
   },
   "outputs": [
    {
     "name": "stdout",
     "output_type": "stream",
     "text": [
      "Mean Accuracy: 0.780\n",
      "Config: {'max_depth': None, 'max_features': 3, 'min_samples_split': 5, 'n_estimators': 100}\n"
     ]
    }
   ],
   "source": [
    "RFR = RandomForestClassifier()\n",
    "RFRparam_grid= {\"n_estimators\" :[100,200,500,1000], \n",
    "        \"max_features\": [3,5,7], \n",
    "        \"min_samples_split\": [2,5,10,30],\n",
    "        \"max_depth\": [3,5,8,None]\n",
    "        }\n",
    "\n",
    "RFR_search = GridSearchCV(RFR, param_grid=RFRparam_grid, refit = True, verbose = False, cv=5)\n",
    "\n",
    "# fitting the model for grid search \n",
    "RFR_search.fit(X_train, y_train)\n",
    "RFR_search.best_params_\n",
    "# summarize\n",
    "print('Mean Accuracy: %.3f' % RFR_search.best_score_)\n",
    "print('Config: %s' % RFR_search.best_params_)"
   ]
  },
  {
   "cell_type": "markdown",
   "id": "0bf9d207-5d68-4215-8b3d-f9462dce30c5",
   "metadata": {
    "id": "c859d687-bd50-490b-872c-46139150461f"
   },
   "source": [
    "#### GridSearch Winner"
   ]
  },
  {
   "cell_type": "code",
   "execution_count": 72,
   "id": "a6a98673",
   "metadata": {
    "id": "e2242b78-0f7e-474e-8c2f-25151b810a0d",
    "tags": []
   },
   "outputs": [
    {
     "name": "stdout",
     "output_type": "stream",
     "text": [
      "Accuracy on training set: 0.932\n",
      "Accuracy on test set: 0.760\n"
     ]
    }
   ],
   "source": [
    "RFC = RandomForestClassifier(random_state = 45,max_depth= 8, max_features= 3, min_samples_split= 5, n_estimators= 100)\n",
    "RFC_FIT = RFC.fit(X_train, y_train)\n",
    "RFC_pred = RFC.predict(X_test)\n",
    "print(\"Accuracy on training set: {:.3f}\".format(RFC.score(X_train, y_train)))\n",
    "print(\"Accuracy on test set: {:.3f}\".format(RFC.score(X_test, y_test)))"
   ]
  },
  {
   "cell_type": "markdown",
   "id": "94861726-aa56-466b-8c63-c3c689e08383",
   "metadata": {
    "id": "bb15baf9-a13a-4321-b336-f25b679e916f"
   },
   "source": [
    "#### Default Parameters"
   ]
  },
  {
   "cell_type": "code",
   "execution_count": 73,
   "id": "33449a07",
   "metadata": {
    "id": "2422bbf0-ab85-4517-8af2-f6fa5f74f070",
    "tags": []
   },
   "outputs": [
    {
     "name": "stdout",
     "output_type": "stream",
     "text": [
      "Accuracy on training set: 1.000\n",
      "Accuracy on test set: 0.753\n"
     ]
    }
   ],
   "source": [
    "RFC2 = RandomForestClassifier(random_state = 45)\n",
    "RFC2_FIT = RFC2.fit(X_train, y_train)\n",
    "RFC2_pred = RFC2.predict(X_test)\n",
    "print(\"Accuracy on training set: {:.3f}\".format(RFC2.score(X_train, y_train)))\n",
    "print(\"Accuracy on test set: {:.3f}\".format(RFC2.score(X_test, y_test)))"
   ]
  },
  {
   "cell_type": "markdown",
   "id": "36decb25-d097-470e-acef-85faca3bc9aa",
   "metadata": {
    "id": "dfc20b76-0274-4e73-8649-4f1592f5f024"
   },
   "source": [
    "#### Random Parameters"
   ]
  },
  {
   "cell_type": "code",
   "execution_count": 74,
   "id": "e37b849c",
   "metadata": {
    "id": "8c7bc3cf-7c7e-445e-ac28-41ad0013c96c",
    "tags": []
   },
   "outputs": [
    {
     "name": "stdout",
     "output_type": "stream",
     "text": [
      "Accuracy on training set: 0.852\n",
      "Accuracy on test set: 0.747\n"
     ]
    }
   ],
   "source": [
    "RFC3 = RandomForestClassifier(random_state = 45, max_depth= 8, max_features= 5, min_samples_split= 30, n_estimators= 1000)\n",
    "RFC3_FIT = RFC3.fit(X_train, y_train)\n",
    "RFC3_pred = RFC3.predict(X_test)\n",
    "print(\"Accuracy on training set: {:.3f}\".format(RFC3.score(X_train, y_train)))\n",
    "print(\"Accuracy on test set: {:.3f}\".format(RFC3.score(X_test, y_test)))"
   ]
  },
  {
   "cell_type": "markdown",
   "id": "9c9cebaf",
   "metadata": {
    "id": "b66eeb7a-a0e5-4a8c-bf61-03ae09198cd2"
   },
   "source": [
    "# <div style=\"color:white;display:fill;border-radius:5px;background-color:#98f5ff;font-family:DM Serif Display;overflow:hidden\"><p style=\"padding:20px;color:black;overflow:hidden;font-size:120%;letter-spacing:0.5px;margin:0\"><b>Part VI: </b> Cross Validate Again  </p></div>\n",
    "\n",
    "# <div style=\"color:white;display:fill;border-radius:5px;background-color:#4a708b;font-family:DM Serif Display;overflow:hidden\"><p style=\"padding:20px;color:white;overflow:hidden;font-size:90%;letter-spacing:0.5px;margin:0\"><b>A ) </b> CV Scores (Post HyperTuning) </p></div>"
   ]
  },
  {
   "cell_type": "code",
   "execution_count": 75,
   "id": "13b45f9c",
   "metadata": {
    "id": "b242b4dc-1f1a-4bee-95f2-b7040953eadf",
    "tags": []
   },
   "outputs": [
    {
     "name": "stdout",
     "output_type": "stream",
     "text": [
      "The Cross Validation Scores for Logistic Regression is: 0.760427807486631\n",
      "The Cross Validation Scores for Logistic Regression 2 is: 0.7630336983278159\n",
      "The Cross Validation Scores for Logistic Regression 3 is: 0.7617349970291146\n",
      "The Cross Validation Scores for Support Vector is: 0.7656395891690009\n",
      "The Cross Validation Scores for Support Vector 2 is: 0.7669382904677022\n",
      "The Cross Validation Scores for Support Vector 3 is: 0.7630252100840337\n",
      "The Cross Validation Scores for Gradient Boosting Classifier is: 0.7669552669552671\n",
      "The Cross Validation Scores for Gradient Boosting Classifier 2 is: 0.7266700619641796\n",
      "The Cross Validation Scores for Gradient Boosting Classifier 3 is: 0.7565486800780918\n",
      "The Cross Validation Scores for Random Forest Classifer is: 0.7630846277905101\n",
      "The Cross Validation Scores for Random Forest Classifer 2 is: 0.7695951107715814\n",
      "The Cross Validation Scores for Random Forest Classifer 3 is : 0.7591885238944063\n"
     ]
    }
   ],
   "source": [
    "print(\"The Cross Validation Scores for Logistic Regression is:\", cross_val_score(LR_FIT, X, y, cv =5).mean())\n",
    "print(\"The Cross Validation Scores for Logistic Regression 2 is:\", cross_val_score(LR2_FIT, X, y, cv =5).mean())\n",
    "print(\"The Cross Validation Scores for Logistic Regression 3 is:\", cross_val_score(LR3_FIT, X, y, cv =5).mean())\n",
    "print(\"The Cross Validation Scores for Support Vector is:\", cross_val_score(svm_FIT, X, y, cv =5).mean())\n",
    "print(\"The Cross Validation Scores for Support Vector 2 is:\", cross_val_score(svm2_FIT, X, y, cv =5).mean())\n",
    "print(\"The Cross Validation Scores for Support Vector 3 is:\", cross_val_score(svm3_FIT, X, y, cv =5).mean())\n",
    "print(\"The Cross Validation Scores for Gradient Boosting Classifier is:\", cross_val_score(GBC_FIT, X, y, cv =5).mean())\n",
    "print(\"The Cross Validation Scores for Gradient Boosting Classifier 2 is:\", cross_val_score(GBC2_FIT, X, y, cv =5).mean())\n",
    "print(\"The Cross Validation Scores for Gradient Boosting Classifier 3 is:\", cross_val_score(GBC3_FIT, X, y, cv =5).mean())\n",
    "print(\"The Cross Validation Scores for Random Forest Classifer is:\", cross_val_score(RFC_FIT, X, y, cv =5).mean())\n",
    "print(\"The Cross Validation Scores for Random Forest Classifer 2 is:\", cross_val_score(RFC2_FIT, X, y, cv =5).mean())\n",
    "print(\"The Cross Validation Scores for Random Forest Classifer 3 is :\", cross_val_score(RFC3_FIT, X, y, cv =5).mean())"
   ]
  },
  {
   "cell_type": "markdown",
   "id": "8979f778",
   "metadata": {
    "id": "7eacdacd-5592-4b87-9f2a-a12521eaf07c"
   },
   "source": [
    "\n",
    "# <div style=\"color:white;display:fill;border-radius:5px;background-color:#4a708b;font-family:DM Serif Display;overflow:hidden\"><p style=\"padding:20px;color:white;overflow:hidden;font-size:90%;letter-spacing:0.5px;margin:0\"><b>B ) </b> Logisitic Regression </p></div>"
   ]
  },
  {
   "cell_type": "code",
   "execution_count": 86,
   "id": "4d11dd4f",
   "metadata": {
    "id": "6c308973-1722-4117-a919-ea8964885a90",
    "tags": []
   },
   "outputs": [
    {
     "name": "stdout",
     "output_type": "stream",
     "text": [
      "Best Logistic Regression Model\n",
      "              precision    recall  f1-score   support\n",
      "\n",
      "           0       0.81      0.85      0.83       104\n",
      "           1       0.64      0.58      0.61        50\n",
      "\n",
      "    accuracy                           0.76       154\n",
      "   macro avg       0.73      0.71      0.72       154\n",
      "weighted avg       0.75      0.76      0.76       154\n",
      "\n",
      "[[88 16]\n",
      " [21 29]]\n"
     ]
    },
    {
     "data": {
      "text/plain": [
       "<sklearn.metrics._plot.confusion_matrix.ConfusionMatrixDisplay at 0x7f050f776ca0>"
      ]
     },
     "execution_count": 86,
     "metadata": {},
     "output_type": "execute_result"
    },
    {
     "data": {
      "image/png": "[encoded data removed]",
      "text/plain": [
       "<Figure size 1080x720 with 2 Axes>"
      ]
     },
     "metadata": {},
     "output_type": "display_data"
    }
   ],
   "source": [
    "print('Best Logistic Regression Model')\n",
    "print(classification_report(y_test, LR2_pred))\n",
    "print(cfmx(y_test, LR2_pred))\n",
    "plot_confusion_matrix(LR2_FIT, X_test, y_test, cmap='bwr')"
   ]
  },
  {
   "cell_type": "markdown",
   "id": "27dea6f9",
   "metadata": {
    "id": "68557104-ce92-4c9f-80ea-c89cc55c9758"
   },
   "source": [
    "# <div style=\"color:white;display:fill;border-radius:5px;background-color:#4a708b;font-family:DM Serif Display;overflow:hidden\"><p style=\"padding:20px;color:white;overflow:hidden;font-size:90%;letter-spacing:0.5px;margin:0\"><b>C ) </b> SVC </p></div>"
   ]
  },
  {
   "cell_type": "code",
   "execution_count": 88,
   "id": "ad8a80e1",
   "metadata": {
    "id": "2d55732c-3b5f-47e8-b778-6692af10637f",
    "tags": []
   },
   "outputs": [
    {
     "name": "stdout",
     "output_type": "stream",
     "text": [
      "Best Support Vector Model\n",
      "              precision    recall  f1-score   support\n",
      "\n",
      "           0       0.78      0.86      0.82       104\n",
      "           1       0.62      0.50      0.56        50\n",
      "\n",
      "    accuracy                           0.74       154\n",
      "   macro avg       0.70      0.68      0.69       154\n",
      "weighted avg       0.73      0.74      0.73       154\n",
      "\n",
      "[[89 15]\n",
      " [25 25]]\n"
     ]
    },
    {
     "data": {
      "text/plain": [
       "<sklearn.metrics._plot.confusion_matrix.ConfusionMatrixDisplay at 0x7f050f141a60>"
      ]
     },
     "execution_count": 88,
     "metadata": {},
     "output_type": "execute_result"
    },
    {
     "data": {
      "image/png": "[encoded data removed]",
      "text/plain": [
       "<Figure size 1080x720 with 2 Axes>"
      ]
     },
     "metadata": {},
     "output_type": "display_data"
    }
   ],
   "source": [
    "print('Best Support Vector Model')\n",
    "print(classification_report(y_test, svm2_pred))\n",
    "print(cfmx(y_test, svm2_pred))\n",
    "plot_confusion_matrix(svm2_FIT, X_test, y_test, cmap='bwr')"
   ]
  },
  {
   "cell_type": "markdown",
   "id": "e9559466",
   "metadata": {
    "id": "73361655-5e40-4207-a129-c69279325c0e"
   },
   "source": [
    "# <div style=\"color:white;display:fill;border-radius:5px;background-color:#4a708b;font-family:DM Serif Display;overflow:hidden\"><p style=\"padding:20px;color:white;overflow:hidden;font-size:90%;letter-spacing:0.5px;margin:0\"><b>D ) </b> Gradient Boost </p></div>"
   ]
  },
  {
   "cell_type": "code",
   "execution_count": 90,
   "id": "bdf8dd3f",
   "metadata": {
    "id": "c0e65d3a-f698-4462-996b-61ad64afb2fd",
    "tags": []
   },
   "outputs": [
    {
     "name": "stdout",
     "output_type": "stream",
     "text": [
      "Best GradientBoostingClassifier Model\n",
      "              precision    recall  f1-score   support\n",
      "\n",
      "           0       0.80      0.79      0.80       104\n",
      "           1       0.58      0.60      0.59        50\n",
      "\n",
      "    accuracy                           0.73       154\n",
      "   macro avg       0.69      0.69      0.69       154\n",
      "weighted avg       0.73      0.73      0.73       154\n",
      "\n",
      "[[82 22]\n",
      " [20 30]]\n"
     ]
    },
    {
     "data": {
      "text/plain": [
       "<sklearn.metrics._plot.confusion_matrix.ConfusionMatrixDisplay at 0x7f050efbf070>"
      ]
     },
     "execution_count": 90,
     "metadata": {},
     "output_type": "execute_result"
    },
    {
     "data": {
      "image/png": "[encoded data removed]",
      "text/plain": [
       "<Figure size 1080x720 with 2 Axes>"
      ]
     },
     "metadata": {},
     "output_type": "display_data"
    }
   ],
   "source": [
    "print('Best GradientBoostingClassifier Model')\n",
    "print(classification_report(y_test, GBC_pred))\n",
    "print(cfmx(y_test, GBC_pred))\n",
    "plot_confusion_matrix(GBC_FIT, X_test, y_test, cmap='bwr')"
   ]
  },
  {
   "cell_type": "markdown",
   "id": "39869cbe",
   "metadata": {
    "id": "9ababbbc-b2c5-4621-9691-e06687d5b93e"
   },
   "source": [
    "# <div style=\"color:white;display:fill;border-radius:5px;background-color:#4a708b;font-family:DM Serif Display;overflow:hidden\"><p style=\"padding:20px;color:white;overflow:hidden;font-size:90%;letter-spacing:0.5px;margin:0\"><b>E ) </b> Random Forest </p></div>"
   ]
  },
  {
   "cell_type": "code",
   "execution_count": 91,
   "id": "c408621d",
   "metadata": {
    "id": "2b324403-487d-404f-8632-b1a85ceaf105",
    "tags": []
   },
   "outputs": [
    {
     "name": "stdout",
     "output_type": "stream",
     "text": [
      "Best RandomForestClassifier Model\n",
      "              precision    recall  f1-score   support\n",
      "\n",
      "           0       0.81      0.83      0.82       104\n",
      "           1       0.62      0.60      0.61        50\n",
      "\n",
      "    accuracy                           0.75       154\n",
      "   macro avg       0.72      0.71      0.72       154\n",
      "weighted avg       0.75      0.75      0.75       154\n",
      "\n",
      "[[86 18]\n",
      " [20 30]]\n"
     ]
    },
    {
     "data": {
      "text/plain": [
       "<sklearn.metrics._plot.confusion_matrix.ConfusionMatrixDisplay at 0x7f050f739970>"
      ]
     },
     "execution_count": 91,
     "metadata": {},
     "output_type": "execute_result"
    },
    {
     "data": {
      "image/png": "[encoded data removed]",
      "text/plain": [
       "<Figure size 1080x720 with 2 Axes>"
      ]
     },
     "metadata": {},
     "output_type": "display_data"
    }
   ],
   "source": [
    "print('Best RandomForestClassifier Model')\n",
    "print(classification_report(y_test, RFC2_pred))\n",
    "print(cfmx(y_test, RFC2_pred))\n",
    "plot_confusion_matrix(RFC2_FIT, X_test, y_test, cmap='bwr')"
   ]
  },
  {
   "cell_type": "markdown",
   "id": "de2ca023",
   "metadata": {
    "id": "6498163a-a2f5-4012-b037-583739d9872f"
   },
   "source": [
    "---\n",
    "\n",
    "# <div style=\"color:white;display:fill;border-radius:5px;background-color:#98f5ff;font-family:DM Serif Display;overflow:hidden\"><p style=\"padding:20px;color:black;overflow:hidden;font-size:120%;letter-spacing:0.5px;margin:0\"><b>Part VII: </b> Feature Importance </p></div>\n",
    "\n",
    "\n",
    "By determining the value of each feature we can than decide which feautres to focus on when running our final models\n",
    "\n",
    "# <div style=\"color:white;display:fill;border-radius:5px;background-color:#4a708b;font-family:DM Serif Display;overflow:hidden\"><p style=\"padding:20px;color:white;overflow:hidden;font-size:90%;letter-spacing:0.5px;margin:0\"><b>A ) </b> Each Model's Feature Importance </p></div>"
   ]
  },
  {
   "cell_type": "code",
   "execution_count": 97,
   "id": "4d9f1437",
   "metadata": {
    "id": "943d7373-f7e0-4a07-9a78-a27d16a3b631",
    "tags": []
   },
   "outputs": [
    {
     "data": {
      "text/html": [
       "<iframe\n",
       "    scrolling=\"no\"\n",
       "    width=\"100%\"\n",
       "    height=\"520\"\n",
       "    src=\"iframe_figures/figure_97.html\"\n",
       "    frameborder=\"0\"\n",
       "    allowfullscreen\n",
       "></iframe>\n"
      ]
     },
     "metadata": {},
     "output_type": "display_data"
    }
   ],
   "source": [
    "importance = LR.coef_[0]\n",
    "feature_importances = [(Features, importance) for Features, importance in zip(X, importance)]\n",
    "featsLR = pd.DataFrame(feature_importances, columns =['Features', 'Importance']).sort_values(by='Importance', ascending = False).head(7)\n",
    "\n",
    "fig = px.bar(x = featsLR.Features, y= featsLR.Importance, title = \"Features Importance of Logisitic Regression\", \n",
    "      color = featsLR.Importance, color_continuous_scale=px.colors.sequential.Sunset)\n",
    "fig.update_layout(xaxis=dict(title='Features'), yaxis=dict(title='Importance'), font=fontdict, title_font=titledict, height=500)"
   ]
  },
  {
   "cell_type": "code",
   "execution_count": 98,
   "id": "3cef2069",
   "metadata": {
    "id": "8577197c-82c6-4a3f-8a43-9604c71fe966",
    "tags": []
   },
   "outputs": [
    {
     "data": {
      "text/html": [
       "<iframe\n",
       "    scrolling=\"no\"\n",
       "    width=\"100%\"\n",
       "    height=\"520\"\n",
       "    src=\"iframe_figures/figure_98.html\"\n",
       "    frameborder=\"0\"\n",
       "    allowfullscreen\n",
       "></iframe>\n"
      ]
     },
     "metadata": {},
     "output_type": "display_data"
    }
   ],
   "source": [
    "importance = svm3.coef_[0]\n",
    "feature_importances = [(Features, importance) for Features, importance in zip(X, importance)]\n",
    "featsLR = pd.DataFrame(feature_importances, columns =['Features', 'Importance']).sort_values(by='Importance', ascending = False).head(7)\n",
    "\n",
    "fig = px.bar(x = featsLR.Features, y= featsLR.Importance, title = \"Features Importance of Logisitic Regression\", \n",
    "      color = featsLR.Importance, color_continuous_scale=px.colors.sequential.Sunset)\n",
    "fig.update_layout(xaxis=dict(title='Features'), yaxis=dict(title='Importance'), font=fontdict, title_font=titledict, height=500)"
   ]
  },
  {
   "cell_type": "code",
   "execution_count": 99,
   "id": "9798e2c5",
   "metadata": {
    "id": "af594b6a-5b0d-4264-9370-f7429f5dd4b0",
    "tags": []
   },
   "outputs": [
    {
     "data": {
      "text/html": [
       "<iframe\n",
       "    scrolling=\"no\"\n",
       "    width=\"100%\"\n",
       "    height=\"520\"\n",
       "    src=\"iframe_figures/figure_99.html\"\n",
       "    frameborder=\"0\"\n",
       "    allowfullscreen\n",
       "></iframe>\n"
      ]
     },
     "metadata": {},
     "output_type": "display_data"
    }
   ],
   "source": [
    "GBC.feature_importances_\n",
    "importances=list(GBC.feature_importances_)\n",
    "feature_importances = [(Features, round(importance, 2)) for Features, importance in zip(X, importances)]\n",
    "featsGB = pd.DataFrame(feature_importances, columns =['Features', 'Importance']).sort_values(by='Importance', ascending = False).head(7)\n",
    "\n",
    "fig = px.bar(x = featsGB.Features, y= featsGB.Importance, title = \"Features Importance of Gradient Boost\", \n",
    "      color = featsGB.Importance, color_continuous_scale=px.colors.sequential.Sunset)\n",
    "fig.update_layout(xaxis=dict(title='Features'), yaxis=dict(title='Importance'), font=fontdict, title_font=titledict, height=500)"
   ]
  },
  {
   "cell_type": "code",
   "execution_count": 100,
   "id": "6cbb1337",
   "metadata": {
    "id": "70c7227b-a291-4f94-b71b-74270e8ac4f5",
    "tags": []
   },
   "outputs": [
    {
     "data": {
      "text/html": [
       "<iframe\n",
       "    scrolling=\"no\"\n",
       "    width=\"100%\"\n",
       "    height=\"520\"\n",
       "    src=\"iframe_figures/figure_100.html\"\n",
       "    frameborder=\"0\"\n",
       "    allowfullscreen\n",
       "></iframe>\n"
      ]
     },
     "metadata": {},
     "output_type": "display_data"
    }
   ],
   "source": [
    "GBC2.feature_importances_\n",
    "importances=list(GBC2.feature_importances_)\n",
    "feature_importances = [(Features, round(importance, 2)) for Features, importance in zip(X, importances)]\n",
    "featsGB = pd.DataFrame(feature_importances, columns =['Features', 'Importance']).sort_values(by='Importance', ascending = False).head(7)\n",
    "\n",
    "fig = px.bar(x = featsGB.Features, y= featsGB.Importance, title = \"Features Importance of Gradient Boost Model II\", \n",
    "      color = featsGB.Importance, color_continuous_scale=px.colors.sequential.Sunset)\n",
    "fig.update_layout(xaxis=dict(title='Features'), yaxis=dict(title='Importance'),\n",
    "                  font=fontdict, title_font= titledict, height=500)\n",
    "fig.show()"
   ]
  },
  {
   "cell_type": "code",
   "execution_count": 102,
   "id": "53379a13",
   "metadata": {
    "id": "6682dbc2-21ad-4693-9b57-c99836d02eb3",
    "tags": []
   },
   "outputs": [
    {
     "data": {
      "text/html": [
       "<iframe\n",
       "    scrolling=\"no\"\n",
       "    width=\"100%\"\n",
       "    height=\"520\"\n",
       "    src=\"iframe_figures/figure_102.html\"\n",
       "    frameborder=\"0\"\n",
       "    allowfullscreen\n",
       "></iframe>\n"
      ]
     },
     "metadata": {},
     "output_type": "display_data"
    }
   ],
   "source": [
    "RFC2.feature_importances_\n",
    "importances=list(RFC2.feature_importances_)\n",
    "feature_importances = [(Features, round(importance, 2)) for Features, importance in zip(X, importances)]\n",
    "featsRF = pd.DataFrame(feature_importances, columns =['Features', 'Importance']).sort_values(by='Importance', ascending = False).head(10)\n",
    "\n",
    "fig = px.bar(x = featsRF.Features, y= featsRF.Importance, title = \"Features Importance of Random Forest\", \n",
    "      color = featsRF.Importance, color_continuous_scale=px.colors.sequential.Sunset)\n",
    "fig.update_layout(xaxis=dict(title='Features'), yaxis=dict(title='Importance'), \n",
    "                  font=fontdict, title_font= titledict, height=500)"
   ]
  },
  {
   "cell_type": "markdown",
   "id": "1623080a",
   "metadata": {
    "id": "9533f066-488e-43d5-b0c5-fb047bcaefee"
   },
   "source": [
    "# <div style=\"color:white;display:fill;border-radius:5px;background-color:#4a708b;font-family:DM Serif Display;overflow:hidden\"><p style=\"padding:20px;color:white;overflow:hidden;font-size:90%;letter-spacing:0.5px;margin:0\"><b>B ) </b>Modeling with the Features of Importance</p></div>"
   ]
  },
  {
   "cell_type": "code",
   "execution_count": 103,
   "id": "f83aa4ad",
   "metadata": {
    "id": "7ed3597d-866f-4e82-8447-2b2e51f43d80",
    "scrolled": true,
    "tags": []
   },
   "outputs": [
    {
     "data": {
      "text/html": [
       "<div>\n",
       "<style scoped>\n",
       "    .dataframe tbody tr th:only-of-type {\n",
       "        vertical-align: middle;\n",
       "    }\n",
       "\n",
       "    .dataframe tbody tr th {\n",
       "        vertical-align: top;\n",
       "    }\n",
       "\n",
       "    .dataframe thead th {\n",
       "        text-align: right;\n",
       "    }\n",
       "</style>\n",
       "<table border=\"1\" class=\"dataframe\">\n",
       "  <thead>\n",
       "    <tr style=\"text-align: right;\">\n",
       "      <th></th>\n",
       "      <th>glucose</th>\n",
       "      <th>bmi</th>\n",
       "      <th>age</th>\n",
       "      <th>outcome</th>\n",
       "    </tr>\n",
       "  </thead>\n",
       "  <tbody>\n",
       "    <tr>\n",
       "      <th>0</th>\n",
       "      <td>148.0</td>\n",
       "      <td>33.6</td>\n",
       "      <td>50</td>\n",
       "      <td>1</td>\n",
       "    </tr>\n",
       "    <tr>\n",
       "      <th>1</th>\n",
       "      <td>85.0</td>\n",
       "      <td>26.6</td>\n",
       "      <td>31</td>\n",
       "      <td>0</td>\n",
       "    </tr>\n",
       "    <tr>\n",
       "      <th>2</th>\n",
       "      <td>183.0</td>\n",
       "      <td>23.3</td>\n",
       "      <td>32</td>\n",
       "      <td>1</td>\n",
       "    </tr>\n",
       "    <tr>\n",
       "      <th>3</th>\n",
       "      <td>89.0</td>\n",
       "      <td>28.1</td>\n",
       "      <td>21</td>\n",
       "      <td>0</td>\n",
       "    </tr>\n",
       "    <tr>\n",
       "      <th>4</th>\n",
       "      <td>137.0</td>\n",
       "      <td>43.1</td>\n",
       "      <td>33</td>\n",
       "      <td>1</td>\n",
       "    </tr>\n",
       "  </tbody>\n",
       "</table>\n",
       "</div>"
      ],
      "text/plain": [
       "   glucose   bmi  age  outcome\n",
       "0    148.0  33.6   50        1\n",
       "1     85.0  26.6   31        0\n",
       "2    183.0  23.3   32        1\n",
       "3     89.0  28.1   21        0\n",
       "4    137.0  43.1   33        1"
      ]
     },
     "execution_count": 103,
     "metadata": {},
     "output_type": "execute_result"
    }
   ],
   "source": [
    "X2 = data.drop(['dpf','pregnancies','bp','st','insulin','outcome'],axis=1)\n",
    "y2 = data['outcome']\n",
    "\n",
    "df2 =data.drop(['dpf','pregnancies','bp','st','insulin'],axis=1)\n",
    "df2.head()"
   ]
  },
  {
   "cell_type": "code",
   "execution_count": 104,
   "id": "988d7c65",
   "metadata": {
    "id": "8d79ff28-f5ef-4474-b7e2-972a0bfe26f8",
    "tags": []
   },
   "outputs": [
    {
     "name": "stdout",
     "output_type": "stream",
     "text": [
      "(768, 4)\n",
      "(768, 3)\n",
      "(768,)\n"
     ]
    }
   ],
   "source": [
    "print(df2.shape)\n",
    "print(X2.shape)\n",
    "print(y2.shape)"
   ]
  },
  {
   "cell_type": "code",
   "execution_count": 105,
   "id": "ceb1f2d9",
   "metadata": {
    "id": "5adc7039-b790-4948-a253-e4af3cad9fa4",
    "tags": []
   },
   "outputs": [],
   "source": [
    "X_train2, X_test2, y_train2, y_test2 = train_test_split(X, y,stratify = df2.outcome, test_size=0.2, random_state=45)"
   ]
  },
  {
   "cell_type": "code",
   "execution_count": 106,
   "id": "d2fc583d",
   "metadata": {
    "id": "4a0ce030-e7c1-4a56-8fba-2ff855c089ad",
    "tags": []
   },
   "outputs": [],
   "source": [
    "GB_final = 'outcome ~ glucose'\n",
    "x = sm.add_constant(X2)\n",
    "model = smf.ols(formula=GB_final, data=df2).fit()\n",
    "\n",
    "resi = model.resid\n",
    "abs_residuals = np.abs(resi)\n",
    "\n",
    "standard_residuals = model.get_influence().resid_studentized_internal\n",
    "sqrt_abs_residuals = np.sqrt(np.abs(standard_residuals))\n",
    "\n",
    "leverage = model.get_influence().hat_matrix_diag\n",
    "cooks_distance = model.get_influence().cooks_distance"
   ]
  },
  {
   "cell_type": "code",
   "execution_count": 108,
   "id": "7ecd16ee",
   "metadata": {
    "id": "18e58e51-3835-4b9c-9213-67c7c03e5ce7",
    "tags": []
   },
   "outputs": [
    {
     "data": {
      "text/plain": [
       "Text(0.5, 1.0, 'Residuals Probability of Gradient Booster')"
      ]
     },
     "execution_count": 108,
     "metadata": {},
     "output_type": "execute_result"
    },
    {
     "data": {
      "image/png": "[encoded data removed]",
      "text/plain": [
       "<Figure size 1080x720 with 1 Axes>"
      ]
     },
     "metadata": {},
     "output_type": "display_data"
    }
   ],
   "source": [
    "st.probplot(model.resid, plot=plt)\n",
    "plt.title('Residuals Probability of Gradient Booster')"
   ]
  },
  {
   "cell_type": "code",
   "execution_count": 110,
   "id": "cd69dbdf",
   "metadata": {
    "id": "dce5edb3-f2a2-417e-a434-5ac5cab9b21b",
    "tags": []
   },
   "outputs": [],
   "source": [
    "X_train2.to_csv('data/xtrain.csv', sep=',')\n",
    "X_test2.to_csv('data/xtest.csv', sep=',')\n",
    "y_train2.to_csv('data/ytrain.csv', sep=',')\n",
    "y_test2.to_csv('data/ytest.csv', sep=',')"
   ]
  },
  {
   "cell_type": "code",
   "execution_count": 115,
   "id": "50e94592",
   "metadata": {
    "id": "12b2fc7d-d847-4f8d-afa0-5f89176d8cc2",
    "tags": []
   },
   "outputs": [],
   "source": [
    "def roc_curve(title):\n",
    "    fig = px.area(\n",
    "        x=fpr, y=tpr,\n",
    "        labels=dict(x='False Positive Rate', y='True Positive Rate')\n",
    "    )\n",
    "    fig.add_shape(\n",
    "        type='line', line=dict(dash='dash'),\n",
    "        x0=0, x1=1, y0=0, y1=1\n",
    "    )\n",
    "\n",
    "    fig.update_yaxes(scaleanchor=\"x\", scaleratio=1)\n",
    "    fig.update_xaxes(constrain='domain')\n",
    "    fig.update_layout(height=500, width=500,font=fontdict, \n",
    "                      title={'text':f'ROC Curve (AUC={auc(fpr, tpr):.4f}):'+title, \n",
    "                             'font':titledict, 'x':0.5})\n",
    "    fig.show()\n"
   ]
  },
  {
   "cell_type": "code",
   "execution_count": 116,
   "id": "4b66f279",
   "metadata": {
    "id": "4d875e5c-e6c4-48e8-8095-39fc40518abd",
    "tags": []
   },
   "outputs": [
    {
     "data": {
      "text/html": [
       "<iframe\n",
       "    scrolling=\"no\"\n",
       "    width=\"520px\"\n",
       "    height=\"520\"\n",
       "    src=\"iframe_figures/figure_116.html\"\n",
       "    frameborder=\"0\"\n",
       "    allowfullscreen\n",
       "></iframe>\n"
      ]
     },
     "metadata": {},
     "output_type": "display_data"
    }
   ],
   "source": [
    "probs = GBC3.predict_proba(X_test2)\n",
    "preds = probs[:,1]\n",
    "fpr, tpr, threshold = metrics.roc_curve(y_test2, preds)\n",
    "roc_auc = metrics.auc(fpr, tpr)\n",
    "\n",
    "roc_curve(title=' Gradient Boost III')"
   ]
  },
  {
   "cell_type": "code",
   "execution_count": 117,
   "id": "7bedf636",
   "metadata": {
    "id": "406f5f63-37bf-4ce8-a11a-32e518040091",
    "tags": []
   },
   "outputs": [
    {
     "data": {
      "text/html": [
       "<iframe\n",
       "    scrolling=\"no\"\n",
       "    width=\"520px\"\n",
       "    height=\"520\"\n",
       "    src=\"iframe_figures/figure_117.html\"\n",
       "    frameborder=\"0\"\n",
       "    allowfullscreen\n",
       "></iframe>\n"
      ]
     },
     "metadata": {},
     "output_type": "display_data"
    }
   ],
   "source": [
    "probs = RFC3.predict_proba(X_test)\n",
    "preds = probs[:,1]\n",
    "fpr, tpr, threshold = metrics.roc_curve(y_test, preds)\n",
    "roc_auc = metrics.auc(fpr, tpr)\n",
    "\n",
    "roc_curve(title=' Random Forest Classifier')"
   ]
  },
  {
   "cell_type": "markdown",
   "id": "cd7b2ba1",
   "metadata": {
    "id": "5eb9012a-65e7-4a89-b0f3-baca1a31bf25"
   },
   "source": [
    "# <div style=\"color:white;display:fill;border-radius:5px;background-color:#4a708b;font-family:DM Serif Display;overflow:hidden\"><p style=\"padding:20px;color:white;overflow:hidden;font-size:90%;letter-spacing:0.5px;margin:0\"><b>C ) </b>Evaluate each model with feature imporantance instituted </p></div>"
   ]
  },
  {
   "cell_type": "code",
   "execution_count": 119,
   "id": "92962c43",
   "metadata": {
    "id": "cf47b04c-7419-408c-bf32-59f1a28b5cc8",
    "tags": []
   },
   "outputs": [
    {
     "name": "stdout",
     "output_type": "stream",
     "text": [
      "RFC: 0.765584 (0.058515)\n",
      "GBC2: 0.735714 (0.052231)\n",
      "SVC: 0.768199 (0.037516)\n",
      "LR: 0.759074 (0.038587)\n"
     ]
    },
    {
     "data": {
      "text/html": [
       "<iframe\n",
       "    scrolling=\"no\"\n",
       "    width=\"100%\"\n",
       "    height=\"520\"\n",
       "    src=\"iframe_figures/figure_119.html\"\n",
       "    frameborder=\"0\"\n",
       "    allowfullscreen\n",
       "></iframe>\n"
      ]
     },
     "metadata": {},
     "output_type": "display_data"
    }
   ],
   "source": [
    "models = []\n",
    "\n",
    "\n",
    "models.append(('RFC', RandomForestClassifier(random_state = 42, max_depth=None, max_features=7, min_samples_split=10,\n",
    "                         n_estimators=100)))\n",
    "models.append(('GBC2', GradientBoostingClassifier(random_state=45, learning_rate=0.01, max_depth= 9, n_estimators=500, subsample=1.0)))\n",
    "models.append(('SVC', SVC(random_state=45, C=1000, degree=1, gamma=0.0001, kernel='rbf')))\n",
    "models.append((\"LR\", LogisticRegression(random_state = 45, C=100, solver='liblinear')))\n",
    "\n",
    "results = []\n",
    "names = []\n",
    "               \n",
    "for name, model in models:\n",
    "    \n",
    "        kfold = KFold(n_splits = 10, shuffle=True, random_state = 45)\n",
    "        cv_results = cross_val_score(model, X, y, cv = 10, scoring= \"accuracy\")\n",
    "        results.append(cv_results)\n",
    "        names.append(name)\n",
    "        msg = \"%s: %f (%f)\" % (name, cv_results.mean(), cv_results.std())\n",
    "        print(msg)\n",
    "\n",
    "result = pd.DataFrame(results).T\n",
    "result.columns = names\n",
    "\n",
    "fig = go.Figure()\n",
    "fig.add_trace(go.Violin(y=result.RFC, name='Random Forest', box_visible=True, line_color='black', fillcolor='blue', points='all', opacity=0.6, meanline_visible=True))\n",
    "fig.add_trace(go.Violin(y=result.GBC2, name='Gradient Boost', box_visible=True, line_color='black', fillcolor='purple', points='all', opacity=0.6, meanline_visible=True))\n",
    "fig.add_trace(go.Violin(y=result.SVC, name='SVC', box_visible=True, line_color='black', fillcolor='red', points='all', opacity=0.6, meanline_visible=True))\n",
    "fig.add_trace(go.Violin(y=result.LR, name='Logisitic Regression', box_visible=True, line_color='black', fillcolor='green', points='all', opacity=0.6, meanline_visible=True))\n",
    "fig.update_yaxes(title='Accuracy')\n",
    "fig.update_layout(title='Perfomance of Top 4 Models', title_font=titledict, font=fontdict, height=500)\n",
    "fig.show()"
   ]
  },
  {
   "cell_type": "markdown",
   "id": "17901573",
   "metadata": {
    "id": "4f42e92a-9736-4a65-b49e-b4ea10b02528"
   },
   "source": [
    "\n",
    "# <div style=\"color:white;display:fill;border-radius:5px;background-color:#98f5ff;font-family:DM Serif Display;overflow:hidden\"><p style=\"padding:20px;color:black;overflow:hidden;font-size:120%;letter-spacing:0.5px;margin:0\">Conclusion</p></div>\n",
    "\n",
    "After filtering and testing various models it seem that either thta the Support Vector Classifier would be the best for the situtation. The  Random Forest is right behind it with higher scores on occasion but not as consistent. Either way they would both be adequate with around 80% success. I am definitley planning on revisiting this though so I can do a little more tuning a find a model that consistently gets over a 90% success rate.\n",
    "\n",
    "As for predictor variables, it definitely seems like Glucose leves are maginitudes more influential than the rest of the variables. While BMI and Age did play a role, Glucose was essentailly unmatched. Even though its going to make me sound like a square, stop eating sugar. Fats all day before you think of having sugar in terms of indulging. Healthy fats though too. \n",
    "\n",
    "### - Taylor Segell"
   ]
  },
  {
   "cell_type": "code",
   "execution_count": null,
   "id": "42bd0eec-e543-48a0-bb9b-e7cf4f1985fa",
   "metadata": {
    "id": "42bd0eec-e543-48a0-bb9b-e7cf4f1985fa"
   },
   "outputs": [],
   "source": []
  }
 ],
 "metadata": {
  "kernelspec": {
   "display_name": "Python 3.9",
   "language": "python",
   "name": "python3"
  },
  "language_info": {
   "codemirror_mode": {
    "name": "ipython",
    "version": 3
   },
   "file_extension": ".py",
   "mimetype": "text/x-python",
   "name": "python",
   "nbconvert_exporter": "python",
   "pygments_lexer": "ipython3",
   "version": "3.9.7"
  },
  "vscode": {
   "interpreter": {
    "hash": "aee8b7b246df8f9039afb4144a1f6fd8d2ca17a180786b69acc140d282b71a49"
   }
  },
  "widgets": {
   "application/vnd.jupyter.widget-state+json": {
    "state": {},
    "version_major": 2,
    "version_minor": 0
   }
  }
 },
 "nbformat": 4,
 "nbformat_minor": 5
}
